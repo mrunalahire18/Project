{
  "cells": [
    {
      "cell_type": "markdown",
      "metadata": {
        "id": "nfAVgXLgrBrU"
      },
      "source": [
        " # Time Series Forecasting \n",
        "\n",
        "Time series analysis comprises methods for analyzing time series data in order to extract meaningful statistics and other characteristics of the data. Time series forecasting is the use of a model to predict future values based on previously observed values.\n",
        "\n",
        "Time series are widely used for non-stationary data, like economic, weather, stock price, and retail sales in this post. \n",
        "**I am going to  predict Gold price with time series forecasting using RNN method**\n",
        "\n",
        " Time Series Forecasting using CNN-LSTM\n"
      ]
    },
    {
      "cell_type": "code",
      "execution_count": 1,
      "metadata": {
        "id": "nQOebmIKrBrf"
      },
      "outputs": [],
      "source": [
        "import numpy as np # linear algebra\n",
        "import pandas as pd # data processing\n",
        "import matplotlib.pyplot as plt\n",
        "from keras.models import Sequential\n",
        "import matplotlib.patches as mpatches\n",
        "from keras.layers import Dense\n",
        "from keras.layers import Dropout\n",
        "from keras.layers import LSTM\n",
        "from sklearn.preprocessing import MinMaxScaler\n",
        "from sklearn.metrics import mean_squared_error\n",
        "import seaborn as sns\n",
        "import os\n",
        "\n",
        "\n",
        "# Any results you write to the current directory are saved as output."
      ]
    },
    {
      "cell_type": "code",
      "source": [
        " sns.set_theme(style='white')"
      ],
      "metadata": {
        "id": "2wDE8K84Hb7v"
      },
      "execution_count": 2,
      "outputs": []
    },
    {
      "cell_type": "code",
      "execution_count": 3,
      "metadata": {
        "id": "bH9jSRplrBrh"
      },
      "outputs": [],
      "source": [
        "df = pd.read_excel(r'/content/Gold_data.xlsx')"
      ]
    },
    {
      "cell_type": "code",
      "execution_count": 4,
      "metadata": {
        "id": "8tK7rGAkrBri",
        "colab": {
          "base_uri": "https://localhost:8080/"
        },
        "outputId": "8ffd4357-1a51-4593-d2c5-481f822b3897"
      },
      "outputs": [
        {
          "output_type": "execute_result",
          "data": {
            "text/plain": [
              "Index(['date', 'price'], dtype='object')"
            ]
          },
          "metadata": {},
          "execution_count": 4
        }
      ],
      "source": [
        "df.columns"
      ]
    },
    {
      "cell_type": "code",
      "execution_count": 5,
      "metadata": {
        "id": "ROhPoakMrBrj",
        "colab": {
          "base_uri": "https://localhost:8080/",
          "height": 206
        },
        "outputId": "d30fd2b5-e30a-44d5-8b83-32b24564904a"
      },
      "outputs": [
        {
          "output_type": "execute_result",
          "data": {
            "text/plain": [
              "        date    price\n",
              "0 2016-01-01  2252.60\n",
              "1 2016-01-02  2454.50\n",
              "2 2016-01-03  2708.10\n",
              "3 2016-01-04  2577.80\n",
              "4 2016-01-05  2597.75"
            ],
            "text/html": [
              "\n",
              "  <div id=\"df-ff961f9d-7139-401d-96fa-5b3828ff9af7\">\n",
              "    <div class=\"colab-df-container\">\n",
              "      <div>\n",
              "<style scoped>\n",
              "    .dataframe tbody tr th:only-of-type {\n",
              "        vertical-align: middle;\n",
              "    }\n",
              "\n",
              "    .dataframe tbody tr th {\n",
              "        vertical-align: top;\n",
              "    }\n",
              "\n",
              "    .dataframe thead th {\n",
              "        text-align: right;\n",
              "    }\n",
              "</style>\n",
              "<table border=\"1\" class=\"dataframe\">\n",
              "  <thead>\n",
              "    <tr style=\"text-align: right;\">\n",
              "      <th></th>\n",
              "      <th>date</th>\n",
              "      <th>price</th>\n",
              "    </tr>\n",
              "  </thead>\n",
              "  <tbody>\n",
              "    <tr>\n",
              "      <th>0</th>\n",
              "      <td>2016-01-01</td>\n",
              "      <td>2252.60</td>\n",
              "    </tr>\n",
              "    <tr>\n",
              "      <th>1</th>\n",
              "      <td>2016-01-02</td>\n",
              "      <td>2454.50</td>\n",
              "    </tr>\n",
              "    <tr>\n",
              "      <th>2</th>\n",
              "      <td>2016-01-03</td>\n",
              "      <td>2708.10</td>\n",
              "    </tr>\n",
              "    <tr>\n",
              "      <th>3</th>\n",
              "      <td>2016-01-04</td>\n",
              "      <td>2577.80</td>\n",
              "    </tr>\n",
              "    <tr>\n",
              "      <th>4</th>\n",
              "      <td>2016-01-05</td>\n",
              "      <td>2597.75</td>\n",
              "    </tr>\n",
              "  </tbody>\n",
              "</table>\n",
              "</div>\n",
              "      <button class=\"colab-df-convert\" onclick=\"convertToInteractive('df-ff961f9d-7139-401d-96fa-5b3828ff9af7')\"\n",
              "              title=\"Convert this dataframe to an interactive table.\"\n",
              "              style=\"display:none;\">\n",
              "        \n",
              "  <svg xmlns=\"http://www.w3.org/2000/svg\" height=\"24px\"viewBox=\"0 0 24 24\"\n",
              "       width=\"24px\">\n",
              "    <path d=\"M0 0h24v24H0V0z\" fill=\"none\"/>\n",
              "    <path d=\"M18.56 5.44l.94 2.06.94-2.06 2.06-.94-2.06-.94-.94-2.06-.94 2.06-2.06.94zm-11 1L8.5 8.5l.94-2.06 2.06-.94-2.06-.94L8.5 2.5l-.94 2.06-2.06.94zm10 10l.94 2.06.94-2.06 2.06-.94-2.06-.94-.94-2.06-.94 2.06-2.06.94z\"/><path d=\"M17.41 7.96l-1.37-1.37c-.4-.4-.92-.59-1.43-.59-.52 0-1.04.2-1.43.59L10.3 9.45l-7.72 7.72c-.78.78-.78 2.05 0 2.83L4 21.41c.39.39.9.59 1.41.59.51 0 1.02-.2 1.41-.59l7.78-7.78 2.81-2.81c.8-.78.8-2.07 0-2.86zM5.41 20L4 18.59l7.72-7.72 1.47 1.35L5.41 20z\"/>\n",
              "  </svg>\n",
              "      </button>\n",
              "      \n",
              "  <style>\n",
              "    .colab-df-container {\n",
              "      display:flex;\n",
              "      flex-wrap:wrap;\n",
              "      gap: 12px;\n",
              "    }\n",
              "\n",
              "    .colab-df-convert {\n",
              "      background-color: #E8F0FE;\n",
              "      border: none;\n",
              "      border-radius: 50%;\n",
              "      cursor: pointer;\n",
              "      display: none;\n",
              "      fill: #1967D2;\n",
              "      height: 32px;\n",
              "      padding: 0 0 0 0;\n",
              "      width: 32px;\n",
              "    }\n",
              "\n",
              "    .colab-df-convert:hover {\n",
              "      background-color: #E2EBFA;\n",
              "      box-shadow: 0px 1px 2px rgba(60, 64, 67, 0.3), 0px 1px 3px 1px rgba(60, 64, 67, 0.15);\n",
              "      fill: #174EA6;\n",
              "    }\n",
              "\n",
              "    [theme=dark] .colab-df-convert {\n",
              "      background-color: #3B4455;\n",
              "      fill: #D2E3FC;\n",
              "    }\n",
              "\n",
              "    [theme=dark] .colab-df-convert:hover {\n",
              "      background-color: #434B5C;\n",
              "      box-shadow: 0px 1px 3px 1px rgba(0, 0, 0, 0.15);\n",
              "      filter: drop-shadow(0px 1px 2px rgba(0, 0, 0, 0.3));\n",
              "      fill: #FFFFFF;\n",
              "    }\n",
              "  </style>\n",
              "\n",
              "      <script>\n",
              "        const buttonEl =\n",
              "          document.querySelector('#df-ff961f9d-7139-401d-96fa-5b3828ff9af7 button.colab-df-convert');\n",
              "        buttonEl.style.display =\n",
              "          google.colab.kernel.accessAllowed ? 'block' : 'none';\n",
              "\n",
              "        async function convertToInteractive(key) {\n",
              "          const element = document.querySelector('#df-ff961f9d-7139-401d-96fa-5b3828ff9af7');\n",
              "          const dataTable =\n",
              "            await google.colab.kernel.invokeFunction('convertToInteractive',\n",
              "                                                     [key], {});\n",
              "          if (!dataTable) return;\n",
              "\n",
              "          const docLinkHtml = 'Like what you see? Visit the ' +\n",
              "            '<a target=\"_blank\" href=https://colab.research.google.com/notebooks/data_table.ipynb>data table notebook</a>'\n",
              "            + ' to learn more about interactive tables.';\n",
              "          element.innerHTML = '';\n",
              "          dataTable['output_type'] = 'display_data';\n",
              "          await google.colab.output.renderOutput(dataTable, element);\n",
              "          const docLink = document.createElement('div');\n",
              "          docLink.innerHTML = docLinkHtml;\n",
              "          element.appendChild(docLink);\n",
              "        }\n",
              "      </script>\n",
              "    </div>\n",
              "  </div>\n",
              "  "
            ]
          },
          "metadata": {},
          "execution_count": 5
        }
      ],
      "source": [
        "df.head()"
      ]
    },
    {
      "cell_type": "code",
      "execution_count": 6,
      "metadata": {
        "id": "bycIexH9w-N1",
        "colab": {
          "base_uri": "https://localhost:8080/",
          "height": 206
        },
        "outputId": "f08925b7-34f5-4ad9-de43-d0ce8b8e93c9"
      },
      "outputs": [
        {
          "output_type": "execute_result",
          "data": {
            "text/plain": [
              "           date   price\n",
              "2177 2021-12-17  4394.4\n",
              "2178 2021-12-18  4389.5\n",
              "2179 2021-12-19  4389.5\n",
              "2180 2021-12-20  4354.1\n",
              "2181 2021-12-21  4346.5"
            ],
            "text/html": [
              "\n",
              "  <div id=\"df-302e1519-b308-4d26-8bef-0edd4cc0106a\">\n",
              "    <div class=\"colab-df-container\">\n",
              "      <div>\n",
              "<style scoped>\n",
              "    .dataframe tbody tr th:only-of-type {\n",
              "        vertical-align: middle;\n",
              "    }\n",
              "\n",
              "    .dataframe tbody tr th {\n",
              "        vertical-align: top;\n",
              "    }\n",
              "\n",
              "    .dataframe thead th {\n",
              "        text-align: right;\n",
              "    }\n",
              "</style>\n",
              "<table border=\"1\" class=\"dataframe\">\n",
              "  <thead>\n",
              "    <tr style=\"text-align: right;\">\n",
              "      <th></th>\n",
              "      <th>date</th>\n",
              "      <th>price</th>\n",
              "    </tr>\n",
              "  </thead>\n",
              "  <tbody>\n",
              "    <tr>\n",
              "      <th>2177</th>\n",
              "      <td>2021-12-17</td>\n",
              "      <td>4394.4</td>\n",
              "    </tr>\n",
              "    <tr>\n",
              "      <th>2178</th>\n",
              "      <td>2021-12-18</td>\n",
              "      <td>4389.5</td>\n",
              "    </tr>\n",
              "    <tr>\n",
              "      <th>2179</th>\n",
              "      <td>2021-12-19</td>\n",
              "      <td>4389.5</td>\n",
              "    </tr>\n",
              "    <tr>\n",
              "      <th>2180</th>\n",
              "      <td>2021-12-20</td>\n",
              "      <td>4354.1</td>\n",
              "    </tr>\n",
              "    <tr>\n",
              "      <th>2181</th>\n",
              "      <td>2021-12-21</td>\n",
              "      <td>4346.5</td>\n",
              "    </tr>\n",
              "  </tbody>\n",
              "</table>\n",
              "</div>\n",
              "      <button class=\"colab-df-convert\" onclick=\"convertToInteractive('df-302e1519-b308-4d26-8bef-0edd4cc0106a')\"\n",
              "              title=\"Convert this dataframe to an interactive table.\"\n",
              "              style=\"display:none;\">\n",
              "        \n",
              "  <svg xmlns=\"http://www.w3.org/2000/svg\" height=\"24px\"viewBox=\"0 0 24 24\"\n",
              "       width=\"24px\">\n",
              "    <path d=\"M0 0h24v24H0V0z\" fill=\"none\"/>\n",
              "    <path d=\"M18.56 5.44l.94 2.06.94-2.06 2.06-.94-2.06-.94-.94-2.06-.94 2.06-2.06.94zm-11 1L8.5 8.5l.94-2.06 2.06-.94-2.06-.94L8.5 2.5l-.94 2.06-2.06.94zm10 10l.94 2.06.94-2.06 2.06-.94-2.06-.94-.94-2.06-.94 2.06-2.06.94z\"/><path d=\"M17.41 7.96l-1.37-1.37c-.4-.4-.92-.59-1.43-.59-.52 0-1.04.2-1.43.59L10.3 9.45l-7.72 7.72c-.78.78-.78 2.05 0 2.83L4 21.41c.39.39.9.59 1.41.59.51 0 1.02-.2 1.41-.59l7.78-7.78 2.81-2.81c.8-.78.8-2.07 0-2.86zM5.41 20L4 18.59l7.72-7.72 1.47 1.35L5.41 20z\"/>\n",
              "  </svg>\n",
              "      </button>\n",
              "      \n",
              "  <style>\n",
              "    .colab-df-container {\n",
              "      display:flex;\n",
              "      flex-wrap:wrap;\n",
              "      gap: 12px;\n",
              "    }\n",
              "\n",
              "    .colab-df-convert {\n",
              "      background-color: #E8F0FE;\n",
              "      border: none;\n",
              "      border-radius: 50%;\n",
              "      cursor: pointer;\n",
              "      display: none;\n",
              "      fill: #1967D2;\n",
              "      height: 32px;\n",
              "      padding: 0 0 0 0;\n",
              "      width: 32px;\n",
              "    }\n",
              "\n",
              "    .colab-df-convert:hover {\n",
              "      background-color: #E2EBFA;\n",
              "      box-shadow: 0px 1px 2px rgba(60, 64, 67, 0.3), 0px 1px 3px 1px rgba(60, 64, 67, 0.15);\n",
              "      fill: #174EA6;\n",
              "    }\n",
              "\n",
              "    [theme=dark] .colab-df-convert {\n",
              "      background-color: #3B4455;\n",
              "      fill: #D2E3FC;\n",
              "    }\n",
              "\n",
              "    [theme=dark] .colab-df-convert:hover {\n",
              "      background-color: #434B5C;\n",
              "      box-shadow: 0px 1px 3px 1px rgba(0, 0, 0, 0.15);\n",
              "      filter: drop-shadow(0px 1px 2px rgba(0, 0, 0, 0.3));\n",
              "      fill: #FFFFFF;\n",
              "    }\n",
              "  </style>\n",
              "\n",
              "      <script>\n",
              "        const buttonEl =\n",
              "          document.querySelector('#df-302e1519-b308-4d26-8bef-0edd4cc0106a button.colab-df-convert');\n",
              "        buttonEl.style.display =\n",
              "          google.colab.kernel.accessAllowed ? 'block' : 'none';\n",
              "\n",
              "        async function convertToInteractive(key) {\n",
              "          const element = document.querySelector('#df-302e1519-b308-4d26-8bef-0edd4cc0106a');\n",
              "          const dataTable =\n",
              "            await google.colab.kernel.invokeFunction('convertToInteractive',\n",
              "                                                     [key], {});\n",
              "          if (!dataTable) return;\n",
              "\n",
              "          const docLinkHtml = 'Like what you see? Visit the ' +\n",
              "            '<a target=\"_blank\" href=https://colab.research.google.com/notebooks/data_table.ipynb>data table notebook</a>'\n",
              "            + ' to learn more about interactive tables.';\n",
              "          element.innerHTML = '';\n",
              "          dataTable['output_type'] = 'display_data';\n",
              "          await google.colab.output.renderOutput(dataTable, element);\n",
              "          const docLink = document.createElement('div');\n",
              "          docLink.innerHTML = docLinkHtml;\n",
              "          element.appendChild(docLink);\n",
              "        }\n",
              "      </script>\n",
              "    </div>\n",
              "  </div>\n",
              "  "
            ]
          },
          "metadata": {},
          "execution_count": 6
        }
      ],
      "source": [
        "df.tail()"
      ]
    },
    {
      "cell_type": "code",
      "source": [
        "df.describe()"
      ],
      "metadata": {
        "colab": {
          "base_uri": "https://localhost:8080/",
          "height": 300
        },
        "id": "snb1FbWMHPaA",
        "outputId": "8e01eed8-643f-4a53-f731-5b86804becf6"
      },
      "execution_count": 7,
      "outputs": [
        {
          "output_type": "execute_result",
          "data": {
            "text/plain": [
              "             price\n",
              "count  2182.000000\n",
              "mean   3284.450046\n",
              "std     719.564434\n",
              "min    2252.600000\n",
              "25%    2697.020000\n",
              "50%    2879.800000\n",
              "75%    4147.325000\n",
              "max    4966.300000"
            ],
            "text/html": [
              "\n",
              "  <div id=\"df-e04a7b94-bb53-4386-bbf7-1dfe371b85cb\">\n",
              "    <div class=\"colab-df-container\">\n",
              "      <div>\n",
              "<style scoped>\n",
              "    .dataframe tbody tr th:only-of-type {\n",
              "        vertical-align: middle;\n",
              "    }\n",
              "\n",
              "    .dataframe tbody tr th {\n",
              "        vertical-align: top;\n",
              "    }\n",
              "\n",
              "    .dataframe thead th {\n",
              "        text-align: right;\n",
              "    }\n",
              "</style>\n",
              "<table border=\"1\" class=\"dataframe\">\n",
              "  <thead>\n",
              "    <tr style=\"text-align: right;\">\n",
              "      <th></th>\n",
              "      <th>price</th>\n",
              "    </tr>\n",
              "  </thead>\n",
              "  <tbody>\n",
              "    <tr>\n",
              "      <th>count</th>\n",
              "      <td>2182.000000</td>\n",
              "    </tr>\n",
              "    <tr>\n",
              "      <th>mean</th>\n",
              "      <td>3284.450046</td>\n",
              "    </tr>\n",
              "    <tr>\n",
              "      <th>std</th>\n",
              "      <td>719.564434</td>\n",
              "    </tr>\n",
              "    <tr>\n",
              "      <th>min</th>\n",
              "      <td>2252.600000</td>\n",
              "    </tr>\n",
              "    <tr>\n",
              "      <th>25%</th>\n",
              "      <td>2697.020000</td>\n",
              "    </tr>\n",
              "    <tr>\n",
              "      <th>50%</th>\n",
              "      <td>2879.800000</td>\n",
              "    </tr>\n",
              "    <tr>\n",
              "      <th>75%</th>\n",
              "      <td>4147.325000</td>\n",
              "    </tr>\n",
              "    <tr>\n",
              "      <th>max</th>\n",
              "      <td>4966.300000</td>\n",
              "    </tr>\n",
              "  </tbody>\n",
              "</table>\n",
              "</div>\n",
              "      <button class=\"colab-df-convert\" onclick=\"convertToInteractive('df-e04a7b94-bb53-4386-bbf7-1dfe371b85cb')\"\n",
              "              title=\"Convert this dataframe to an interactive table.\"\n",
              "              style=\"display:none;\">\n",
              "        \n",
              "  <svg xmlns=\"http://www.w3.org/2000/svg\" height=\"24px\"viewBox=\"0 0 24 24\"\n",
              "       width=\"24px\">\n",
              "    <path d=\"M0 0h24v24H0V0z\" fill=\"none\"/>\n",
              "    <path d=\"M18.56 5.44l.94 2.06.94-2.06 2.06-.94-2.06-.94-.94-2.06-.94 2.06-2.06.94zm-11 1L8.5 8.5l.94-2.06 2.06-.94-2.06-.94L8.5 2.5l-.94 2.06-2.06.94zm10 10l.94 2.06.94-2.06 2.06-.94-2.06-.94-.94-2.06-.94 2.06-2.06.94z\"/><path d=\"M17.41 7.96l-1.37-1.37c-.4-.4-.92-.59-1.43-.59-.52 0-1.04.2-1.43.59L10.3 9.45l-7.72 7.72c-.78.78-.78 2.05 0 2.83L4 21.41c.39.39.9.59 1.41.59.51 0 1.02-.2 1.41-.59l7.78-7.78 2.81-2.81c.8-.78.8-2.07 0-2.86zM5.41 20L4 18.59l7.72-7.72 1.47 1.35L5.41 20z\"/>\n",
              "  </svg>\n",
              "      </button>\n",
              "      \n",
              "  <style>\n",
              "    .colab-df-container {\n",
              "      display:flex;\n",
              "      flex-wrap:wrap;\n",
              "      gap: 12px;\n",
              "    }\n",
              "\n",
              "    .colab-df-convert {\n",
              "      background-color: #E8F0FE;\n",
              "      border: none;\n",
              "      border-radius: 50%;\n",
              "      cursor: pointer;\n",
              "      display: none;\n",
              "      fill: #1967D2;\n",
              "      height: 32px;\n",
              "      padding: 0 0 0 0;\n",
              "      width: 32px;\n",
              "    }\n",
              "\n",
              "    .colab-df-convert:hover {\n",
              "      background-color: #E2EBFA;\n",
              "      box-shadow: 0px 1px 2px rgba(60, 64, 67, 0.3), 0px 1px 3px 1px rgba(60, 64, 67, 0.15);\n",
              "      fill: #174EA6;\n",
              "    }\n",
              "\n",
              "    [theme=dark] .colab-df-convert {\n",
              "      background-color: #3B4455;\n",
              "      fill: #D2E3FC;\n",
              "    }\n",
              "\n",
              "    [theme=dark] .colab-df-convert:hover {\n",
              "      background-color: #434B5C;\n",
              "      box-shadow: 0px 1px 3px 1px rgba(0, 0, 0, 0.15);\n",
              "      filter: drop-shadow(0px 1px 2px rgba(0, 0, 0, 0.3));\n",
              "      fill: #FFFFFF;\n",
              "    }\n",
              "  </style>\n",
              "\n",
              "      <script>\n",
              "        const buttonEl =\n",
              "          document.querySelector('#df-e04a7b94-bb53-4386-bbf7-1dfe371b85cb button.colab-df-convert');\n",
              "        buttonEl.style.display =\n",
              "          google.colab.kernel.accessAllowed ? 'block' : 'none';\n",
              "\n",
              "        async function convertToInteractive(key) {\n",
              "          const element = document.querySelector('#df-e04a7b94-bb53-4386-bbf7-1dfe371b85cb');\n",
              "          const dataTable =\n",
              "            await google.colab.kernel.invokeFunction('convertToInteractive',\n",
              "                                                     [key], {});\n",
              "          if (!dataTable) return;\n",
              "\n",
              "          const docLinkHtml = 'Like what you see? Visit the ' +\n",
              "            '<a target=\"_blank\" href=https://colab.research.google.com/notebooks/data_table.ipynb>data table notebook</a>'\n",
              "            + ' to learn more about interactive tables.';\n",
              "          element.innerHTML = '';\n",
              "          dataTable['output_type'] = 'display_data';\n",
              "          await google.colab.output.renderOutput(dataTable, element);\n",
              "          const docLink = document.createElement('div');\n",
              "          docLink.innerHTML = docLinkHtml;\n",
              "          element.appendChild(docLink);\n",
              "        }\n",
              "      </script>\n",
              "    </div>\n",
              "  </div>\n",
              "  "
            ]
          },
          "metadata": {},
          "execution_count": 7
        }
      ]
    },
    {
      "cell_type": "code",
      "source": [
        "df.info()"
      ],
      "metadata": {
        "colab": {
          "base_uri": "https://localhost:8080/"
        },
        "id": "vUzUsrkXHQ9V",
        "outputId": "0befe58f-e5e0-41c6-ec8b-9f007128d907"
      },
      "execution_count": 8,
      "outputs": [
        {
          "output_type": "stream",
          "name": "stdout",
          "text": [
            "<class 'pandas.core.frame.DataFrame'>\n",
            "RangeIndex: 2182 entries, 0 to 2181\n",
            "Data columns (total 2 columns):\n",
            " #   Column  Non-Null Count  Dtype         \n",
            "---  ------  --------------  -----         \n",
            " 0   date    2182 non-null   datetime64[ns]\n",
            " 1   price   2182 non-null   float64       \n",
            "dtypes: datetime64[ns](1), float64(1)\n",
            "memory usage: 34.2 KB\n"
          ]
        }
      ]
    },
    {
      "cell_type": "code",
      "execution_count": 9,
      "metadata": {
        "id": "99kBPUlLrBrj"
      },
      "outputs": [],
      "source": [
        "df['date'] = pd.to_datetime(df['date'])\n",
        "df.set_index('date', inplace= True)\n",
        "data =df.resample('D').mean()"
      ]
    },
    {
      "cell_type": "code",
      "execution_count": 10,
      "metadata": {
        "id": "vgc4N734rBrl"
      },
      "outputs": [],
      "source": [
        "data = data[['price' ]]"
      ]
    },
    {
      "cell_type": "code",
      "execution_count": 11,
      "metadata": {
        "id": "rsiHtKLQrBrm",
        "colab": {
          "base_uri": "https://localhost:8080/"
        },
        "outputId": "77d5066e-e1a0-44fe-d2e3-fc7ef2fa147e"
      },
      "outputs": [
        {
          "output_type": "stream",
          "name": "stdout",
          "text": [
            "<class 'pandas.core.frame.DataFrame'>\n",
            "DatetimeIndex: 2182 entries, 2016-01-01 to 2021-12-21\n",
            "Freq: D\n",
            "Data columns (total 1 columns):\n",
            " #   Column  Non-Null Count  Dtype  \n",
            "---  ------  --------------  -----  \n",
            " 0   price   2182 non-null   float64\n",
            "dtypes: float64(1)\n",
            "memory usage: 34.1 KB\n"
          ]
        }
      ],
      "source": [
        "data.info()"
      ]
    },
    {
      "cell_type": "code",
      "execution_count": 12,
      "metadata": {
        "id": "qOVRdlRLrBro"
      },
      "outputs": [],
      "source": [
        "from scipy.interpolate import interp1d"
      ]
    },
    {
      "cell_type": "code",
      "execution_count": 13,
      "metadata": {
        "id": "sfLyeH59rBrp"
      },
      "outputs": [],
      "source": [
        "data['price'] = data['price'].interpolate()\n",
        "# we will fill the null row"
      ]
    },
    {
      "cell_type": "code",
      "execution_count": 14,
      "metadata": {
        "id": "4eLfyTGjrBrq",
        "colab": {
          "base_uri": "https://localhost:8080/"
        },
        "outputId": "a37bb239-b9ca-42d0-f25d-272b24388b70"
      },
      "outputs": [
        {
          "output_type": "stream",
          "name": "stdout",
          "text": [
            "<class 'pandas.core.frame.DataFrame'>\n",
            "DatetimeIndex: 2182 entries, 2016-01-01 to 2021-12-21\n",
            "Freq: D\n",
            "Data columns (total 1 columns):\n",
            " #   Column  Non-Null Count  Dtype  \n",
            "---  ------  --------------  -----  \n",
            " 0   price   2182 non-null   float64\n",
            "dtypes: float64(1)\n",
            "memory usage: 34.1 KB\n"
          ]
        }
      ],
      "source": [
        "data.info()"
      ]
    },
    {
      "cell_type": "code",
      "execution_count": 15,
      "metadata": {
        "id": "C511qzzKrBrq",
        "colab": {
          "base_uri": "https://localhost:8080/",
          "height": 237
        },
        "outputId": "1be42edb-8f16-4add-a4ea-86692c944e54"
      },
      "outputs": [
        {
          "output_type": "execute_result",
          "data": {
            "text/plain": [
              "              price\n",
              "date               \n",
              "2016-01-01  2252.60\n",
              "2016-01-02  2454.50\n",
              "2016-01-03  2708.10\n",
              "2016-01-04  2577.80\n",
              "2016-01-05  2597.75"
            ],
            "text/html": [
              "\n",
              "  <div id=\"df-19a10c3a-f5e3-459c-bf7b-f5c720cad344\">\n",
              "    <div class=\"colab-df-container\">\n",
              "      <div>\n",
              "<style scoped>\n",
              "    .dataframe tbody tr th:only-of-type {\n",
              "        vertical-align: middle;\n",
              "    }\n",
              "\n",
              "    .dataframe tbody tr th {\n",
              "        vertical-align: top;\n",
              "    }\n",
              "\n",
              "    .dataframe thead th {\n",
              "        text-align: right;\n",
              "    }\n",
              "</style>\n",
              "<table border=\"1\" class=\"dataframe\">\n",
              "  <thead>\n",
              "    <tr style=\"text-align: right;\">\n",
              "      <th></th>\n",
              "      <th>price</th>\n",
              "    </tr>\n",
              "    <tr>\n",
              "      <th>date</th>\n",
              "      <th></th>\n",
              "    </tr>\n",
              "  </thead>\n",
              "  <tbody>\n",
              "    <tr>\n",
              "      <th>2016-01-01</th>\n",
              "      <td>2252.60</td>\n",
              "    </tr>\n",
              "    <tr>\n",
              "      <th>2016-01-02</th>\n",
              "      <td>2454.50</td>\n",
              "    </tr>\n",
              "    <tr>\n",
              "      <th>2016-01-03</th>\n",
              "      <td>2708.10</td>\n",
              "    </tr>\n",
              "    <tr>\n",
              "      <th>2016-01-04</th>\n",
              "      <td>2577.80</td>\n",
              "    </tr>\n",
              "    <tr>\n",
              "      <th>2016-01-05</th>\n",
              "      <td>2597.75</td>\n",
              "    </tr>\n",
              "  </tbody>\n",
              "</table>\n",
              "</div>\n",
              "      <button class=\"colab-df-convert\" onclick=\"convertToInteractive('df-19a10c3a-f5e3-459c-bf7b-f5c720cad344')\"\n",
              "              title=\"Convert this dataframe to an interactive table.\"\n",
              "              style=\"display:none;\">\n",
              "        \n",
              "  <svg xmlns=\"http://www.w3.org/2000/svg\" height=\"24px\"viewBox=\"0 0 24 24\"\n",
              "       width=\"24px\">\n",
              "    <path d=\"M0 0h24v24H0V0z\" fill=\"none\"/>\n",
              "    <path d=\"M18.56 5.44l.94 2.06.94-2.06 2.06-.94-2.06-.94-.94-2.06-.94 2.06-2.06.94zm-11 1L8.5 8.5l.94-2.06 2.06-.94-2.06-.94L8.5 2.5l-.94 2.06-2.06.94zm10 10l.94 2.06.94-2.06 2.06-.94-2.06-.94-.94-2.06-.94 2.06-2.06.94z\"/><path d=\"M17.41 7.96l-1.37-1.37c-.4-.4-.92-.59-1.43-.59-.52 0-1.04.2-1.43.59L10.3 9.45l-7.72 7.72c-.78.78-.78 2.05 0 2.83L4 21.41c.39.39.9.59 1.41.59.51 0 1.02-.2 1.41-.59l7.78-7.78 2.81-2.81c.8-.78.8-2.07 0-2.86zM5.41 20L4 18.59l7.72-7.72 1.47 1.35L5.41 20z\"/>\n",
              "  </svg>\n",
              "      </button>\n",
              "      \n",
              "  <style>\n",
              "    .colab-df-container {\n",
              "      display:flex;\n",
              "      flex-wrap:wrap;\n",
              "      gap: 12px;\n",
              "    }\n",
              "\n",
              "    .colab-df-convert {\n",
              "      background-color: #E8F0FE;\n",
              "      border: none;\n",
              "      border-radius: 50%;\n",
              "      cursor: pointer;\n",
              "      display: none;\n",
              "      fill: #1967D2;\n",
              "      height: 32px;\n",
              "      padding: 0 0 0 0;\n",
              "      width: 32px;\n",
              "    }\n",
              "\n",
              "    .colab-df-convert:hover {\n",
              "      background-color: #E2EBFA;\n",
              "      box-shadow: 0px 1px 2px rgba(60, 64, 67, 0.3), 0px 1px 3px 1px rgba(60, 64, 67, 0.15);\n",
              "      fill: #174EA6;\n",
              "    }\n",
              "\n",
              "    [theme=dark] .colab-df-convert {\n",
              "      background-color: #3B4455;\n",
              "      fill: #D2E3FC;\n",
              "    }\n",
              "\n",
              "    [theme=dark] .colab-df-convert:hover {\n",
              "      background-color: #434B5C;\n",
              "      box-shadow: 0px 1px 3px 1px rgba(0, 0, 0, 0.15);\n",
              "      filter: drop-shadow(0px 1px 2px rgba(0, 0, 0, 0.3));\n",
              "      fill: #FFFFFF;\n",
              "    }\n",
              "  </style>\n",
              "\n",
              "      <script>\n",
              "        const buttonEl =\n",
              "          document.querySelector('#df-19a10c3a-f5e3-459c-bf7b-f5c720cad344 button.colab-df-convert');\n",
              "        buttonEl.style.display =\n",
              "          google.colab.kernel.accessAllowed ? 'block' : 'none';\n",
              "\n",
              "        async function convertToInteractive(key) {\n",
              "          const element = document.querySelector('#df-19a10c3a-f5e3-459c-bf7b-f5c720cad344');\n",
              "          const dataTable =\n",
              "            await google.colab.kernel.invokeFunction('convertToInteractive',\n",
              "                                                     [key], {});\n",
              "          if (!dataTable) return;\n",
              "\n",
              "          const docLinkHtml = 'Like what you see? Visit the ' +\n",
              "            '<a target=\"_blank\" href=https://colab.research.google.com/notebooks/data_table.ipynb>data table notebook</a>'\n",
              "            + ' to learn more about interactive tables.';\n",
              "          element.innerHTML = '';\n",
              "          dataTable['output_type'] = 'display_data';\n",
              "          await google.colab.output.renderOutput(dataTable, element);\n",
              "          const docLink = document.createElement('div');\n",
              "          docLink.innerHTML = docLinkHtml;\n",
              "          element.appendChild(docLink);\n",
              "        }\n",
              "      </script>\n",
              "    </div>\n",
              "  </div>\n",
              "  "
            ]
          },
          "metadata": {},
          "execution_count": 15
        }
      ],
      "source": [
        "data.head()"
      ]
    },
    {
      "cell_type": "code",
      "execution_count": 16,
      "metadata": {
        "id": "rQiqjVHe9yuN",
        "colab": {
          "base_uri": "https://localhost:8080/"
        },
        "outputId": "b38185c9-b4b3-44ba-e726-c1298a9dab9b"
      },
      "outputs": [
        {
          "output_type": "execute_result",
          "data": {
            "text/plain": [
              "2182"
            ]
          },
          "metadata": {},
          "execution_count": 16
        }
      ],
      "source": [
        "len(data)"
      ]
    },
    {
      "cell_type": "code",
      "execution_count": 17,
      "metadata": {
        "id": "nNRaqAwdrBrr"
      },
      "outputs": [],
      "source": [
        "df = data.copy()"
      ]
    },
    {
      "cell_type": "code",
      "execution_count": 18,
      "metadata": {
        "id": "b3FYS6E_rBrs",
        "colab": {
          "base_uri": "https://localhost:8080/",
          "height": 488
        },
        "outputId": "32f8dd0d-5746-43ea-b9b5-3a1a2de17fc1"
      },
      "outputs": [
        {
          "output_type": "display_data",
          "data": {
            "text/plain": [
              "<Figure size 1440x576 with 1 Axes>"
            ],
            "image/png": "[encoded data removed]"
          },
          "metadata": {}
        }
      ],
      "source": [
        "plt.figure(figsize=(20,8))\n",
        "plt.plot(data)\n",
        "plt.title('Time Series')\n",
        "plt.xlabel('Date')\n",
        "plt.ylabel('temperature')\n",
        "plt.show()"
      ]
    },
    {
      "cell_type": "markdown",
      "metadata": {
        "id": "UfdHEe6vrBrt"
      },
      "source": [
        "# Time Series Forecast using LSTM\n",
        "\n",
        "Long Short Term Memory networks – usually just called “LSTMs” – are a special kind of RNN, capable of learning long-term dependencies. They were introduced by Hochreiter & Schmidhuber (1997), and were refined and popularized by many people in following work.1 They work tremendously well on a large variety of problems, and are now widely used.\n",
        "\n",
        "LSTMs are explicitly designed to avoid the long-term dependency problem. Remembering information for long periods of time is practically their default behavior, not something they struggle to learn!\n",
        "\n",
        "All recurrent neural networks have the form of a chain of repeating modules of neural network. In standard RNNs, this repeating module will have a very simple structure, such as a single tanh layer.\n"
      ]
    },
    {
      "cell_type": "code",
      "execution_count": 19,
      "metadata": {
        "id": "NXtLVih5rBru"
      },
      "outputs": [],
      "source": [
        "data=data.values\n",
        "data = data.astype('float32')"
      ]
    },
    {
      "cell_type": "code",
      "execution_count": 20,
      "metadata": {
        "id": "Jw0fEtTkrBru"
      },
      "outputs": [],
      "source": [
        "scaler= MinMaxScaler(feature_range=(-1,1))\n",
        "sc = scaler.fit_transform(data)"
      ]
    },
    {
      "cell_type": "code",
      "execution_count": 21,
      "metadata": {
        "id": "RS150PTArBrv",
        "colab": {
          "base_uri": "https://localhost:8080/"
        },
        "outputId": "af850280-8b3d-4233-c668-f8988b904ebf"
      },
      "outputs": [
        {
          "output_type": "execute_result",
          "data": {
            "text/plain": [
              "array([[-1.        ],\n",
              "       [-0.8511995 ],\n",
              "       [-0.66429603],\n",
              "       ...,\n",
              "       [ 0.57489777],\n",
              "       [ 0.5488081 ],\n",
              "       [ 0.5432067 ]], dtype=float32)"
            ]
          },
          "metadata": {},
          "execution_count": 21
        }
      ],
      "source": [
        "sc"
      ]
    },
    {
      "cell_type": "code",
      "execution_count": 22,
      "metadata": {
        "id": "dwevLDWoCeky",
        "colab": {
          "base_uri": "https://localhost:8080/"
        },
        "outputId": "c0c55a86-625a-4abd-8874-517dad0ca30a"
      },
      "outputs": [
        {
          "output_type": "execute_result",
          "data": {
            "text/plain": [
              "2182"
            ]
          },
          "metadata": {},
          "execution_count": 22
        }
      ],
      "source": [
        "len(df)"
      ]
    },
    {
      "cell_type": "code",
      "execution_count": 23,
      "metadata": {
        "id": "Dao1ot4hrBrw"
      },
      "outputs": [],
      "source": [
        "timestep = 30\n",
        "\n",
        "X= []\n",
        "Y=[]\n",
        "\n",
        "\n",
        "for i in range(len(sc)- (timestep)):\n",
        "    X.append(sc[i:i+timestep])\n",
        "    Y.append(sc[i+timestep])\n",
        "\n",
        "\n",
        "X=np.asanyarray(X)\n",
        "Y=np.asanyarray(Y)\n",
        "\n",
        "\n",
        "k = 2000\n",
        "Xtrain = X[:k,:,:]\n",
        "Xtest = X[k:,:,:]    \n",
        "Ytrain = Y[:k]    \n",
        "Ytest= Y[k:]   "
      ]
    },
    {
      "cell_type": "code",
      "execution_count": 24,
      "metadata": {
        "id": "TpTUXJc1rBrw",
        "colab": {
          "base_uri": "https://localhost:8080/"
        },
        "outputId": "df9f3a17-1aab-4e10-f2c5-41cbaf95d314"
      },
      "outputs": [
        {
          "output_type": "stream",
          "name": "stdout",
          "text": [
            "(2000, 30, 1)\n",
            "(152, 30, 1)\n"
          ]
        }
      ],
      "source": [
        "print(Xtrain.shape)\n",
        "print(Xtest.shape)"
      ]
    },
    {
      "cell_type": "code",
      "execution_count": 25,
      "metadata": {
        "id": "Qm-rp28uIKHM",
        "colab": {
          "base_uri": "https://localhost:8080/"
        },
        "outputId": "8eb0c06c-d9d2-4c06-f68e-4526432c0721"
      },
      "outputs": [
        {
          "output_type": "execute_result",
          "data": {
            "text/plain": [
              "array([[[-1.        ],\n",
              "        [-0.8511995 ],\n",
              "        [-0.66429603],\n",
              "        ...,\n",
              "        [-0.8683717 ],\n",
              "        [-0.8691087 ],\n",
              "        [-0.86347055]],\n",
              "\n",
              "       [[-0.8511995 ],\n",
              "        [-0.66429603],\n",
              "        [-0.7603272 ],\n",
              "        ...,\n",
              "        [-0.8691087 ],\n",
              "        [-0.86347055],\n",
              "        [-0.85783255]],\n",
              "\n",
              "       [[-0.66429603],\n",
              "        [-0.7603272 ],\n",
              "        [-0.7456242 ],\n",
              "        ...,\n",
              "        [-0.86347055],\n",
              "        [-0.85783255],\n",
              "        [-0.85219455]],\n",
              "\n",
              "       ...,\n",
              "\n",
              "       [[ 0.4350152 ],\n",
              "        [ 0.46707463],\n",
              "        [ 0.45933628],\n",
              "        ...,\n",
              "        [ 0.5393009 ],\n",
              "        [ 0.5393009 ],\n",
              "        [ 0.55345106]],\n",
              "\n",
              "       [[ 0.46707463],\n",
              "        [ 0.45933628],\n",
              "        [ 0.45904112],\n",
              "        ...,\n",
              "        [ 0.5393009 ],\n",
              "        [ 0.55345106],\n",
              "        [ 0.53259397]],\n",
              "\n",
              "       [[ 0.45933628],\n",
              "        [ 0.45904112],\n",
              "        [ 0.45425057],\n",
              "        ...,\n",
              "        [ 0.55345106],\n",
              "        [ 0.53259397],\n",
              "        [ 0.5167484 ]]], dtype=float32)"
            ]
          },
          "metadata": {},
          "execution_count": 25
        }
      ],
      "source": [
        "Xtrain"
      ]
    },
    {
      "cell_type": "code",
      "execution_count": 26,
      "metadata": {
        "id": "vTNegylIISqy",
        "colab": {
          "base_uri": "https://localhost:8080/"
        },
        "outputId": "2f5acb01-e855-4107-d25c-dbd5b3a1af42"
      },
      "outputs": [
        {
          "output_type": "execute_result",
          "data": {
            "text/plain": [
              "array([[-0.85783255],\n",
              "       [-0.85219455],\n",
              "       [-0.8465564 ],\n",
              "       ...,\n",
              "       [ 0.53259397],\n",
              "       [ 0.5167484 ],\n",
              "       [ 0.5229392 ]], dtype=float32)"
            ]
          },
          "metadata": {},
          "execution_count": 26
        }
      ],
      "source": [
        "Ytrain"
      ]
    },
    {
      "cell_type": "code",
      "execution_count": 27,
      "metadata": {
        "id": "9Rek1TkrICRQ",
        "colab": {
          "base_uri": "https://localhost:8080/"
        },
        "outputId": "6840380e-1f13-4c4d-b6fe-58224143637e"
      },
      "outputs": [
        {
          "output_type": "stream",
          "name": "stdout",
          "text": [
            "(2000, 1)\n",
            "(152, 1)\n"
          ]
        }
      ],
      "source": [
        "print(Ytrain.shape)\n",
        "print(Ytest.shape)"
      ]
    },
    {
      "cell_type": "markdown",
      "metadata": {
        "id": "950_zznirBry"
      },
      "source": [
        " # LSTM Model"
      ]
    },
    {
      "cell_type": "code",
      "source": [],
      "metadata": {
        "id": "s4k8qkG-LWMW"
      },
      "execution_count": 27,
      "outputs": []
    },
    {
      "cell_type": "code",
      "execution_count": 28,
      "metadata": {
        "id": "L6BKxPfBrBrz"
      },
      "outputs": [],
      "source": [
        "model = Sequential()\n",
        "\n",
        "model.add(LSTM(32,activation = 'relu', input_shape= (30,1), return_sequences=True))\n",
        "model.add(LSTM(32, activation='relu', return_sequences=True))\n",
        "model.add(LSTM(32, activation='sigmoid', return_sequences=False))\n",
        "model.add(Dense(1))\n",
        "model.compile(optimizer='adam', loss='mse')"
      ]
    },
    {
      "cell_type": "code",
      "execution_count": 29,
      "metadata": {
        "id": "gern8HxqrBrz",
        "colab": {
          "base_uri": "https://localhost:8080/"
        },
        "outputId": "ead628c1-44a3-40ad-fff4-9d1060dd49c1"
      },
      "outputs": [
        {
          "output_type": "stream",
          "name": "stdout",
          "text": [
            "Model: \"sequential\"\n",
            "_________________________________________________________________\n",
            " Layer (type)                Output Shape              Param #   \n",
            "=================================================================\n",
            " lstm (LSTM)                 (None, 30, 32)            4352      \n",
            "                                                                 \n",
            " lstm_1 (LSTM)               (None, 30, 32)            8320      \n",
            "                                                                 \n",
            " lstm_2 (LSTM)               (None, 32)                8320      \n",
            "                                                                 \n",
            " dense (Dense)               (None, 1)                 33        \n",
            "                                                                 \n",
            "=================================================================\n",
            "Total params: 21,025\n",
            "Trainable params: 21,025\n",
            "Non-trainable params: 0\n",
            "_________________________________________________________________\n"
          ]
        }
      ],
      "source": [
        "model.summary()"
      ]
    },
    {
      "cell_type": "code",
      "execution_count": 30,
      "metadata": {
        "id": "_0BVVUeArBrz",
        "colab": {
          "base_uri": "https://localhost:8080/"
        },
        "outputId": "e9dce28d-b816-48ad-ceee-8fb59136eed3"
      },
      "outputs": [
        {
          "output_type": "stream",
          "name": "stdout",
          "text": [
            "Epoch 1/300\n",
            "63/63 [==============================] - 8s 45ms/step - loss: 0.1059\n",
            "Epoch 2/300\n",
            "63/63 [==============================] - 3s 46ms/step - loss: 0.0196\n",
            "Epoch 3/300\n",
            "63/63 [==============================] - 3s 46ms/step - loss: 0.0188\n",
            "Epoch 4/300\n",
            "63/63 [==============================] - 3s 45ms/step - loss: 0.0187\n",
            "Epoch 5/300\n",
            "63/63 [==============================] - 3s 47ms/step - loss: 0.0186\n",
            "Epoch 6/300\n",
            "63/63 [==============================] - 3s 46ms/step - loss: 0.0176\n",
            "Epoch 7/300\n",
            "63/63 [==============================] - 3s 42ms/step - loss: 0.0175\n",
            "Epoch 8/300\n",
            "63/63 [==============================] - 3s 43ms/step - loss: 0.0165\n",
            "Epoch 9/300\n",
            "63/63 [==============================] - 3s 46ms/step - loss: 0.0175\n",
            "Epoch 10/300\n",
            "63/63 [==============================] - 3s 45ms/step - loss: 0.0149\n",
            "Epoch 11/300\n",
            "63/63 [==============================] - 3s 44ms/step - loss: 0.0132\n",
            "Epoch 12/300\n",
            "63/63 [==============================] - 3s 46ms/step - loss: 0.0113\n",
            "Epoch 13/300\n",
            "63/63 [==============================] - 3s 42ms/step - loss: 0.0130\n",
            "Epoch 14/300\n",
            "63/63 [==============================] - 3s 44ms/step - loss: 0.0104\n",
            "Epoch 15/300\n",
            "63/63 [==============================] - 3s 45ms/step - loss: 0.0089\n",
            "Epoch 16/300\n",
            "63/63 [==============================] - 3s 46ms/step - loss: 0.0086\n",
            "Epoch 17/300\n",
            "63/63 [==============================] - 3s 45ms/step - loss: 0.0076\n",
            "Epoch 18/300\n",
            "63/63 [==============================] - 3s 43ms/step - loss: 0.0069\n",
            "Epoch 19/300\n",
            "63/63 [==============================] - 3s 43ms/step - loss: 0.0070\n",
            "Epoch 20/300\n",
            "63/63 [==============================] - 3s 46ms/step - loss: 0.0084\n",
            "Epoch 21/300\n",
            "63/63 [==============================] - 3s 44ms/step - loss: 0.0070\n",
            "Epoch 22/300\n",
            "63/63 [==============================] - 3s 44ms/step - loss: 0.0068\n",
            "Epoch 23/300\n",
            "63/63 [==============================] - 3s 45ms/step - loss: 0.0077\n",
            "Epoch 24/300\n",
            "63/63 [==============================] - 3s 45ms/step - loss: 0.0076\n",
            "Epoch 25/300\n",
            "63/63 [==============================] - 3s 47ms/step - loss: 0.0066\n",
            "Epoch 26/300\n",
            "63/63 [==============================] - 3s 48ms/step - loss: 0.0066\n",
            "Epoch 27/300\n",
            "63/63 [==============================] - 3s 46ms/step - loss: 0.0067\n",
            "Epoch 28/300\n",
            "63/63 [==============================] - 3s 45ms/step - loss: 0.0065\n",
            "Epoch 29/300\n",
            "63/63 [==============================] - 2s 39ms/step - loss: 0.0073\n",
            "Epoch 30/300\n",
            "63/63 [==============================] - 3s 48ms/step - loss: 0.0065\n",
            "Epoch 31/300\n",
            "63/63 [==============================] - 3s 46ms/step - loss: 0.0065\n",
            "Epoch 32/300\n",
            "63/63 [==============================] - 3s 45ms/step - loss: 0.0069\n",
            "Epoch 33/300\n",
            "63/63 [==============================] - 3s 47ms/step - loss: 0.0063\n",
            "Epoch 34/300\n",
            "63/63 [==============================] - 3s 46ms/step - loss: 0.0065\n",
            "Epoch 35/300\n",
            "63/63 [==============================] - 3s 43ms/step - loss: 0.0065\n",
            "Epoch 36/300\n",
            "63/63 [==============================] - 3s 46ms/step - loss: 0.0064\n",
            "Epoch 37/300\n",
            "63/63 [==============================] - 3s 45ms/step - loss: 0.0065\n",
            "Epoch 38/300\n",
            "63/63 [==============================] - 3s 44ms/step - loss: 0.0068\n",
            "Epoch 39/300\n",
            "63/63 [==============================] - 3s 45ms/step - loss: 0.0063\n",
            "Epoch 40/300\n",
            "63/63 [==============================] - 3s 47ms/step - loss: 0.0065\n",
            "Epoch 41/300\n",
            "63/63 [==============================] - 3s 45ms/step - loss: 0.0062\n",
            "Epoch 42/300\n",
            "63/63 [==============================] - 3s 44ms/step - loss: 0.0058\n",
            "Epoch 43/300\n",
            "63/63 [==============================] - 3s 45ms/step - loss: 0.0061\n",
            "Epoch 44/300\n",
            "63/63 [==============================] - 3s 44ms/step - loss: 0.0064\n",
            "Epoch 45/300\n",
            "63/63 [==============================] - 3s 44ms/step - loss: 0.0057\n",
            "Epoch 46/300\n",
            "63/63 [==============================] - 3s 46ms/step - loss: 0.0056\n",
            "Epoch 47/300\n",
            "63/63 [==============================] - 3s 44ms/step - loss: 0.0058\n",
            "Epoch 48/300\n",
            "63/63 [==============================] - 3s 45ms/step - loss: 0.0056\n",
            "Epoch 49/300\n",
            "63/63 [==============================] - 3s 42ms/step - loss: 0.0058\n",
            "Epoch 50/300\n",
            "63/63 [==============================] - 3s 41ms/step - loss: 0.0057\n",
            "Epoch 51/300\n",
            "63/63 [==============================] - 3s 46ms/step - loss: 0.0058\n",
            "Epoch 52/300\n",
            "63/63 [==============================] - 3s 46ms/step - loss: 0.0056\n",
            "Epoch 53/300\n",
            "63/63 [==============================] - 3s 45ms/step - loss: 0.0061\n",
            "Epoch 54/300\n",
            "63/63 [==============================] - 4s 65ms/step - loss: 0.0055\n",
            "Epoch 55/300\n",
            "63/63 [==============================] - 3s 44ms/step - loss: 0.0054\n",
            "Epoch 56/300\n",
            "63/63 [==============================] - 3s 45ms/step - loss: 0.0054\n",
            "Epoch 57/300\n",
            "63/63 [==============================] - 3s 46ms/step - loss: 0.0056\n",
            "Epoch 58/300\n",
            "63/63 [==============================] - 3s 43ms/step - loss: 0.0055\n",
            "Epoch 59/300\n",
            "63/63 [==============================] - 3s 45ms/step - loss: 0.0064\n",
            "Epoch 60/300\n",
            "63/63 [==============================] - 3s 45ms/step - loss: 0.0057\n",
            "Epoch 61/300\n",
            "63/63 [==============================] - 3s 46ms/step - loss: 0.0054\n",
            "Epoch 62/300\n",
            "63/63 [==============================] - 3s 45ms/step - loss: 0.0055\n",
            "Epoch 63/300\n",
            "63/63 [==============================] - 3s 45ms/step - loss: 0.0057\n",
            "Epoch 64/300\n",
            "63/63 [==============================] - 3s 46ms/step - loss: 0.0059\n",
            "Epoch 65/300\n",
            "63/63 [==============================] - 3s 45ms/step - loss: 0.0054\n",
            "Epoch 66/300\n",
            "63/63 [==============================] - 3s 46ms/step - loss: 0.0056\n",
            "Epoch 67/300\n",
            "63/63 [==============================] - 3s 44ms/step - loss: 0.0054\n",
            "Epoch 68/300\n",
            "63/63 [==============================] - 3s 45ms/step - loss: 0.0057\n",
            "Epoch 69/300\n",
            "63/63 [==============================] - 3s 44ms/step - loss: 0.0056\n",
            "Epoch 70/300\n",
            "63/63 [==============================] - 3s 42ms/step - loss: 0.0055\n",
            "Epoch 71/300\n",
            "63/63 [==============================] - 3s 44ms/step - loss: 0.0054\n",
            "Epoch 72/300\n",
            "63/63 [==============================] - 3s 47ms/step - loss: 0.0053\n",
            "Epoch 73/300\n",
            "63/63 [==============================] - 3s 49ms/step - loss: 0.0052\n",
            "Epoch 74/300\n",
            "63/63 [==============================] - 3s 46ms/step - loss: 0.0054\n",
            "Epoch 75/300\n",
            "63/63 [==============================] - 3s 49ms/step - loss: 0.0053\n",
            "Epoch 76/300\n",
            "63/63 [==============================] - 3s 47ms/step - loss: 0.0052\n",
            "Epoch 77/300\n",
            "63/63 [==============================] - 3s 45ms/step - loss: 0.0054\n",
            "Epoch 78/300\n",
            "63/63 [==============================] - 3s 43ms/step - loss: 0.0054\n",
            "Epoch 79/300\n",
            "63/63 [==============================] - 3s 46ms/step - loss: 0.0053\n",
            "Epoch 80/300\n",
            "63/63 [==============================] - 3s 48ms/step - loss: 0.0057\n",
            "Epoch 81/300\n",
            "63/63 [==============================] - 3s 45ms/step - loss: 0.0055\n",
            "Epoch 82/300\n",
            "63/63 [==============================] - 3s 46ms/step - loss: 0.0053\n",
            "Epoch 83/300\n",
            "63/63 [==============================] - 3s 49ms/step - loss: 0.0053\n",
            "Epoch 84/300\n",
            "63/63 [==============================] - 3s 48ms/step - loss: 0.0051\n",
            "Epoch 85/300\n",
            "63/63 [==============================] - 3s 48ms/step - loss: 0.0058\n",
            "Epoch 86/300\n",
            "63/63 [==============================] - 3s 49ms/step - loss: 0.0055\n",
            "Epoch 87/300\n",
            "63/63 [==============================] - 3s 49ms/step - loss: 0.0053\n",
            "Epoch 88/300\n",
            "63/63 [==============================] - 3s 50ms/step - loss: 0.0056\n",
            "Epoch 89/300\n",
            "63/63 [==============================] - 3s 44ms/step - loss: 0.0056\n",
            "Epoch 90/300\n",
            "63/63 [==============================] - 3s 47ms/step - loss: 0.0053\n",
            "Epoch 91/300\n",
            "63/63 [==============================] - 3s 45ms/step - loss: 0.0052\n",
            "Epoch 92/300\n",
            "63/63 [==============================] - 3s 48ms/step - loss: 0.0053\n",
            "Epoch 93/300\n",
            "63/63 [==============================] - 3s 46ms/step - loss: 0.0054\n",
            "Epoch 94/300\n",
            "63/63 [==============================] - 3s 44ms/step - loss: 0.0051\n",
            "Epoch 95/300\n",
            "63/63 [==============================] - 3s 44ms/step - loss: 0.0051\n",
            "Epoch 96/300\n",
            "63/63 [==============================] - 3s 46ms/step - loss: 0.0051\n",
            "Epoch 97/300\n",
            "63/63 [==============================] - 3s 45ms/step - loss: 0.0050\n",
            "Epoch 98/300\n",
            "63/63 [==============================] - 3s 46ms/step - loss: 0.0053\n",
            "Epoch 99/300\n",
            "63/63 [==============================] - 3s 48ms/step - loss: 0.0052\n",
            "Epoch 100/300\n",
            "63/63 [==============================] - 3s 51ms/step - loss: 0.0052\n",
            "Epoch 101/300\n",
            "63/63 [==============================] - 3s 48ms/step - loss: 0.0053\n",
            "Epoch 102/300\n",
            "63/63 [==============================] - 3s 50ms/step - loss: 0.0052\n",
            "Epoch 103/300\n",
            "63/63 [==============================] - 3s 48ms/step - loss: 0.0051\n",
            "Epoch 104/300\n",
            "63/63 [==============================] - 3s 47ms/step - loss: 0.0051\n",
            "Epoch 105/300\n",
            "63/63 [==============================] - 3s 49ms/step - loss: 0.0050\n",
            "Epoch 106/300\n",
            "63/63 [==============================] - 3s 48ms/step - loss: 0.0049\n",
            "Epoch 107/300\n",
            "63/63 [==============================] - 3s 47ms/step - loss: 0.0049\n",
            "Epoch 108/300\n",
            "63/63 [==============================] - 3s 48ms/step - loss: 0.0052\n",
            "Epoch 109/300\n",
            "63/63 [==============================] - 3s 48ms/step - loss: 0.0052\n",
            "Epoch 110/300\n",
            "63/63 [==============================] - 3s 46ms/step - loss: 0.0051\n",
            "Epoch 111/300\n",
            "63/63 [==============================] - 3s 46ms/step - loss: 0.0049\n",
            "Epoch 112/300\n",
            "63/63 [==============================] - 3s 50ms/step - loss: 0.0051\n",
            "Epoch 113/300\n",
            "63/63 [==============================] - 3s 48ms/step - loss: 0.0049\n",
            "Epoch 114/300\n",
            "63/63 [==============================] - 3s 44ms/step - loss: 0.0049\n",
            "Epoch 115/300\n",
            "63/63 [==============================] - 3s 48ms/step - loss: 0.0048\n",
            "Epoch 116/300\n",
            "63/63 [==============================] - 3s 47ms/step - loss: 0.0050\n",
            "Epoch 117/300\n",
            "63/63 [==============================] - 3s 48ms/step - loss: 0.0052\n",
            "Epoch 118/300\n",
            "63/63 [==============================] - 3s 47ms/step - loss: 0.0050\n",
            "Epoch 119/300\n",
            "63/63 [==============================] - 3s 47ms/step - loss: 0.0051\n",
            "Epoch 120/300\n",
            "63/63 [==============================] - 3s 48ms/step - loss: 0.0048\n",
            "Epoch 121/300\n",
            "63/63 [==============================] - 3s 46ms/step - loss: 0.0048\n",
            "Epoch 122/300\n",
            "63/63 [==============================] - 3s 46ms/step - loss: 0.0048\n",
            "Epoch 123/300\n",
            "63/63 [==============================] - 3s 46ms/step - loss: 0.0051\n",
            "Epoch 124/300\n",
            "63/63 [==============================] - 3s 44ms/step - loss: 0.0047\n",
            "Epoch 125/300\n",
            "63/63 [==============================] - 3s 44ms/step - loss: 0.0048\n",
            "Epoch 126/300\n",
            "63/63 [==============================] - 3s 45ms/step - loss: 0.0047\n",
            "Epoch 127/300\n",
            "63/63 [==============================] - 3s 45ms/step - loss: 0.0047\n",
            "Epoch 128/300\n",
            "63/63 [==============================] - 3s 46ms/step - loss: 0.0047\n",
            "Epoch 129/300\n",
            "63/63 [==============================] - 3s 46ms/step - loss: 0.0048\n",
            "Epoch 130/300\n",
            "63/63 [==============================] - 3s 44ms/step - loss: 0.0047\n",
            "Epoch 131/300\n",
            "63/63 [==============================] - 3s 43ms/step - loss: 0.0048\n",
            "Epoch 132/300\n",
            "63/63 [==============================] - 3s 45ms/step - loss: 0.0052\n",
            "Epoch 133/300\n",
            "63/63 [==============================] - 3s 47ms/step - loss: 0.0049\n",
            "Epoch 134/300\n",
            "63/63 [==============================] - 3s 46ms/step - loss: 0.0046\n",
            "Epoch 135/300\n",
            "63/63 [==============================] - 3s 44ms/step - loss: 0.0048\n",
            "Epoch 136/300\n",
            "63/63 [==============================] - 3s 48ms/step - loss: 0.0048\n",
            "Epoch 137/300\n",
            "63/63 [==============================] - 3s 45ms/step - loss: 0.0046\n",
            "Epoch 138/300\n",
            "63/63 [==============================] - 3s 46ms/step - loss: 0.0046\n",
            "Epoch 139/300\n",
            "63/63 [==============================] - 3s 43ms/step - loss: 0.0049\n",
            "Epoch 140/300\n",
            "63/63 [==============================] - 3s 46ms/step - loss: 0.0046\n",
            "Epoch 141/300\n",
            "63/63 [==============================] - 3s 47ms/step - loss: 0.0046\n",
            "Epoch 142/300\n",
            "63/63 [==============================] - 3s 45ms/step - loss: 0.0044\n",
            "Epoch 143/300\n",
            "63/63 [==============================] - 4s 65ms/step - loss: 0.0049\n",
            "Epoch 144/300\n",
            "63/63 [==============================] - 3s 46ms/step - loss: 0.0047\n",
            "Epoch 145/300\n",
            "63/63 [==============================] - 3s 43ms/step - loss: 0.0046\n",
            "Epoch 146/300\n",
            "63/63 [==============================] - 3s 46ms/step - loss: 0.0044\n",
            "Epoch 147/300\n",
            "63/63 [==============================] - 3s 45ms/step - loss: 0.0046\n",
            "Epoch 148/300\n",
            "63/63 [==============================] - 3s 46ms/step - loss: 0.0044\n",
            "Epoch 149/300\n",
            "63/63 [==============================] - 3s 44ms/step - loss: 0.0044\n",
            "Epoch 150/300\n",
            "63/63 [==============================] - 3s 45ms/step - loss: 0.0043\n",
            "Epoch 151/300\n",
            "63/63 [==============================] - 3s 44ms/step - loss: 0.0045\n",
            "Epoch 152/300\n",
            "63/63 [==============================] - 3s 43ms/step - loss: 0.0045\n",
            "Epoch 153/300\n",
            "63/63 [==============================] - 3s 45ms/step - loss: 0.0045\n",
            "Epoch 154/300\n",
            "63/63 [==============================] - 3s 43ms/step - loss: 0.0044\n",
            "Epoch 155/300\n",
            "63/63 [==============================] - 3s 43ms/step - loss: 0.0045\n",
            "Epoch 156/300\n",
            "63/63 [==============================] - 3s 45ms/step - loss: 0.0043\n",
            "Epoch 157/300\n",
            "63/63 [==============================] - 3s 44ms/step - loss: 0.0043\n",
            "Epoch 158/300\n",
            "63/63 [==============================] - 3s 45ms/step - loss: 0.0043\n",
            "Epoch 159/300\n",
            "63/63 [==============================] - 3s 45ms/step - loss: 0.0044\n",
            "Epoch 160/300\n",
            "63/63 [==============================] - 3s 46ms/step - loss: 0.0043\n",
            "Epoch 161/300\n",
            "63/63 [==============================] - 3s 46ms/step - loss: 0.0043\n",
            "Epoch 162/300\n",
            "63/63 [==============================] - 3s 46ms/step - loss: 0.0043\n",
            "Epoch 163/300\n",
            "63/63 [==============================] - 3s 46ms/step - loss: 0.0042\n",
            "Epoch 164/300\n",
            "63/63 [==============================] - 3s 45ms/step - loss: 0.0042\n",
            "Epoch 165/300\n",
            "63/63 [==============================] - 3s 46ms/step - loss: 0.0043\n",
            "Epoch 166/300\n",
            "63/63 [==============================] - 3s 44ms/step - loss: 0.0042\n",
            "Epoch 167/300\n",
            "63/63 [==============================] - 3s 47ms/step - loss: 0.0041\n",
            "Epoch 168/300\n",
            "63/63 [==============================] - 3s 46ms/step - loss: 0.0041\n",
            "Epoch 169/300\n",
            "63/63 [==============================] - 3s 47ms/step - loss: 0.0042\n",
            "Epoch 170/300\n",
            "63/63 [==============================] - 3s 46ms/step - loss: 0.0041\n",
            "Epoch 171/300\n",
            "63/63 [==============================] - 3s 47ms/step - loss: 0.0040\n",
            "Epoch 172/300\n",
            "63/63 [==============================] - 3s 45ms/step - loss: 0.0045\n",
            "Epoch 173/300\n",
            "63/63 [==============================] - 3s 44ms/step - loss: 0.0045\n",
            "Epoch 174/300\n",
            "63/63 [==============================] - 3s 45ms/step - loss: 0.0044\n",
            "Epoch 175/300\n",
            "63/63 [==============================] - 3s 46ms/step - loss: 0.0042\n",
            "Epoch 176/300\n",
            "63/63 [==============================] - 3s 45ms/step - loss: 0.0043\n",
            "Epoch 177/300\n",
            "63/63 [==============================] - 3s 45ms/step - loss: 0.0041\n",
            "Epoch 178/300\n",
            "63/63 [==============================] - 3s 44ms/step - loss: 0.0041\n",
            "Epoch 179/300\n",
            "63/63 [==============================] - 3s 47ms/step - loss: 0.0040\n",
            "Epoch 180/300\n",
            "63/63 [==============================] - 3s 45ms/step - loss: 0.0040\n",
            "Epoch 181/300\n",
            "63/63 [==============================] - 3s 48ms/step - loss: 0.0041\n",
            "Epoch 182/300\n",
            "63/63 [==============================] - 3s 47ms/step - loss: 0.0039\n",
            "Epoch 183/300\n",
            "63/63 [==============================] - 3s 47ms/step - loss: 0.0039\n",
            "Epoch 184/300\n",
            "63/63 [==============================] - 3s 45ms/step - loss: 0.0039\n",
            "Epoch 185/300\n",
            "63/63 [==============================] - 3s 45ms/step - loss: 0.0038\n",
            "Epoch 186/300\n",
            "63/63 [==============================] - 3s 47ms/step - loss: 0.0040\n",
            "Epoch 187/300\n",
            "63/63 [==============================] - 3s 47ms/step - loss: 0.0041\n",
            "Epoch 188/300\n",
            "63/63 [==============================] - 3s 44ms/step - loss: 0.0039\n",
            "Epoch 189/300\n",
            "63/63 [==============================] - 3s 47ms/step - loss: 0.0040\n",
            "Epoch 190/300\n",
            "63/63 [==============================] - 3s 47ms/step - loss: 0.0039\n",
            "Epoch 191/300\n",
            "63/63 [==============================] - 3s 46ms/step - loss: 0.0039\n",
            "Epoch 192/300\n",
            "63/63 [==============================] - 3s 45ms/step - loss: 0.0039\n",
            "Epoch 193/300\n",
            "63/63 [==============================] - 3s 42ms/step - loss: 0.0038\n",
            "Epoch 194/300\n",
            "63/63 [==============================] - 3s 44ms/step - loss: 0.0038\n",
            "Epoch 195/300\n",
            "63/63 [==============================] - 3s 47ms/step - loss: 0.0040\n",
            "Epoch 196/300\n",
            "63/63 [==============================] - 3s 48ms/step - loss: 0.0037\n",
            "Epoch 197/300\n",
            "63/63 [==============================] - 3s 45ms/step - loss: 0.0038\n",
            "Epoch 198/300\n",
            "63/63 [==============================] - 3s 48ms/step - loss: 0.0038\n",
            "Epoch 199/300\n",
            "63/63 [==============================] - 3s 47ms/step - loss: 0.0039\n",
            "Epoch 200/300\n",
            "63/63 [==============================] - 3s 47ms/step - loss: 0.0037\n",
            "Epoch 201/300\n",
            "63/63 [==============================] - 3s 47ms/step - loss: 0.0037\n",
            "Epoch 202/300\n",
            "63/63 [==============================] - 3s 48ms/step - loss: 0.0039\n",
            "Epoch 203/300\n",
            "63/63 [==============================] - 3s 47ms/step - loss: 0.0038\n",
            "Epoch 204/300\n",
            "63/63 [==============================] - 3s 49ms/step - loss: 0.0037\n",
            "Epoch 205/300\n",
            "63/63 [==============================] - 3s 48ms/step - loss: 0.0036\n",
            "Epoch 206/300\n",
            "63/63 [==============================] - 3s 48ms/step - loss: 0.0035\n",
            "Epoch 207/300\n",
            "63/63 [==============================] - 3s 45ms/step - loss: 0.0035\n",
            "Epoch 208/300\n",
            "63/63 [==============================] - 3s 46ms/step - loss: 0.0038\n",
            "Epoch 209/300\n",
            "63/63 [==============================] - 3s 47ms/step - loss: 0.0036\n",
            "Epoch 210/300\n",
            "63/63 [==============================] - 3s 49ms/step - loss: 0.0036\n",
            "Epoch 211/300\n",
            "63/63 [==============================] - 3s 47ms/step - loss: 0.0036\n",
            "Epoch 212/300\n",
            "63/63 [==============================] - 3s 47ms/step - loss: 0.0035\n",
            "Epoch 213/300\n",
            "63/63 [==============================] - 3s 41ms/step - loss: 0.0034\n",
            "Epoch 214/300\n",
            "63/63 [==============================] - 3s 41ms/step - loss: 0.0035\n",
            "Epoch 215/300\n",
            "63/63 [==============================] - 3s 47ms/step - loss: 0.0035\n",
            "Epoch 216/300\n",
            "63/63 [==============================] - 3s 44ms/step - loss: 0.0035\n",
            "Epoch 217/300\n",
            "63/63 [==============================] - 3s 46ms/step - loss: 0.0033\n",
            "Epoch 218/300\n",
            "63/63 [==============================] - 3s 47ms/step - loss: 0.0033\n",
            "Epoch 219/300\n",
            "63/63 [==============================] - 3s 47ms/step - loss: 0.0037\n",
            "Epoch 220/300\n",
            "63/63 [==============================] - 3s 45ms/step - loss: 0.0035\n",
            "Epoch 221/300\n",
            "63/63 [==============================] - 3s 48ms/step - loss: 0.0033\n",
            "Epoch 222/300\n",
            "63/63 [==============================] - 3s 47ms/step - loss: 0.0033\n",
            "Epoch 223/300\n",
            "63/63 [==============================] - 3s 49ms/step - loss: 0.0034\n",
            "Epoch 224/300\n",
            "63/63 [==============================] - 3s 46ms/step - loss: 0.0034\n",
            "Epoch 225/300\n",
            "63/63 [==============================] - 3s 47ms/step - loss: 0.0035\n",
            "Epoch 226/300\n",
            "63/63 [==============================] - 3s 44ms/step - loss: 0.0037\n",
            "Epoch 227/300\n",
            "63/63 [==============================] - 3s 46ms/step - loss: 0.0035\n",
            "Epoch 228/300\n",
            "63/63 [==============================] - 3s 46ms/step - loss: 0.0034\n",
            "Epoch 229/300\n",
            "63/63 [==============================] - 3s 47ms/step - loss: 0.0035\n",
            "Epoch 230/300\n",
            "63/63 [==============================] - 3s 44ms/step - loss: 0.0033\n",
            "Epoch 231/300\n",
            "63/63 [==============================] - 4s 61ms/step - loss: 0.0032\n",
            "Epoch 232/300\n",
            "63/63 [==============================] - 3s 50ms/step - loss: 0.0031\n",
            "Epoch 233/300\n",
            "63/63 [==============================] - 3s 46ms/step - loss: 0.0032\n",
            "Epoch 234/300\n",
            "63/63 [==============================] - 3s 42ms/step - loss: 0.0033\n",
            "Epoch 235/300\n",
            "63/63 [==============================] - 3s 46ms/step - loss: 0.0032\n",
            "Epoch 236/300\n",
            "63/63 [==============================] - 3s 47ms/step - loss: 0.0032\n",
            "Epoch 237/300\n",
            "63/63 [==============================] - 3s 46ms/step - loss: 0.0031\n",
            "Epoch 238/300\n",
            "63/63 [==============================] - 3s 50ms/step - loss: 0.0032\n",
            "Epoch 239/300\n",
            "63/63 [==============================] - 3s 50ms/step - loss: 0.0032\n",
            "Epoch 240/300\n",
            "63/63 [==============================] - 3s 52ms/step - loss: 0.0034\n",
            "Epoch 241/300\n",
            "63/63 [==============================] - 3s 49ms/step - loss: 0.0033\n",
            "Epoch 242/300\n",
            "63/63 [==============================] - 3s 55ms/step - loss: 0.0032\n",
            "Epoch 243/300\n",
            "63/63 [==============================] - 4s 56ms/step - loss: 0.0032\n",
            "Epoch 244/300\n",
            "63/63 [==============================] - 3s 49ms/step - loss: 0.0031\n",
            "Epoch 245/300\n",
            "63/63 [==============================] - 3s 51ms/step - loss: 0.0032\n",
            "Epoch 246/300\n",
            "63/63 [==============================] - 3s 50ms/step - loss: 0.0032\n",
            "Epoch 247/300\n",
            "63/63 [==============================] - 3s 52ms/step - loss: 0.0032\n",
            "Epoch 248/300\n",
            "63/63 [==============================] - 3s 51ms/step - loss: 0.0033\n",
            "Epoch 249/300\n",
            "63/63 [==============================] - 3s 51ms/step - loss: 0.0030\n",
            "Epoch 250/300\n",
            "63/63 [==============================] - 3s 47ms/step - loss: 0.0031\n",
            "Epoch 251/300\n",
            "63/63 [==============================] - 3s 48ms/step - loss: 0.0030\n",
            "Epoch 252/300\n",
            "63/63 [==============================] - 3s 47ms/step - loss: 0.0030\n",
            "Epoch 253/300\n",
            "63/63 [==============================] - 3s 46ms/step - loss: 0.0031\n",
            "Epoch 254/300\n",
            "63/63 [==============================] - 3s 49ms/step - loss: 0.0030\n",
            "Epoch 255/300\n",
            "63/63 [==============================] - 3s 47ms/step - loss: 0.0030\n",
            "Epoch 256/300\n",
            "63/63 [==============================] - 3s 49ms/step - loss: 0.0032\n",
            "Epoch 257/300\n",
            "63/63 [==============================] - 3s 47ms/step - loss: 0.0031\n",
            "Epoch 258/300\n",
            "63/63 [==============================] - 3s 50ms/step - loss: 0.0031\n",
            "Epoch 259/300\n",
            "63/63 [==============================] - 3s 46ms/step - loss: 0.0031\n",
            "Epoch 260/300\n",
            "63/63 [==============================] - 3s 50ms/step - loss: 0.0031\n",
            "Epoch 261/300\n",
            "63/63 [==============================] - 3s 46ms/step - loss: 0.0030\n",
            "Epoch 262/300\n",
            "63/63 [==============================] - 3s 50ms/step - loss: 0.0032\n",
            "Epoch 263/300\n",
            "63/63 [==============================] - 3s 47ms/step - loss: 0.0031\n",
            "Epoch 264/300\n",
            "63/63 [==============================] - 3s 46ms/step - loss: 0.0031\n",
            "Epoch 265/300\n",
            "63/63 [==============================] - 3s 48ms/step - loss: 0.0031\n",
            "Epoch 266/300\n",
            "63/63 [==============================] - 3s 47ms/step - loss: 0.0030\n",
            "Epoch 267/300\n",
            "63/63 [==============================] - 3s 49ms/step - loss: 0.0030\n",
            "Epoch 268/300\n",
            "63/63 [==============================] - 3s 48ms/step - loss: 0.0030\n",
            "Epoch 269/300\n",
            "63/63 [==============================] - 3s 51ms/step - loss: 0.0030\n",
            "Epoch 270/300\n",
            "63/63 [==============================] - 3s 48ms/step - loss: 0.0029\n",
            "Epoch 271/300\n",
            "63/63 [==============================] - 3s 49ms/step - loss: 0.0031\n",
            "Epoch 272/300\n",
            "63/63 [==============================] - 3s 48ms/step - loss: 0.0030\n",
            "Epoch 273/300\n",
            "63/63 [==============================] - 3s 46ms/step - loss: 0.0032\n",
            "Epoch 274/300\n",
            "63/63 [==============================] - 3s 47ms/step - loss: 0.0029\n",
            "Epoch 275/300\n",
            "63/63 [==============================] - 3s 52ms/step - loss: 0.0029\n",
            "Epoch 276/300\n",
            "63/63 [==============================] - 3s 48ms/step - loss: 0.0030\n",
            "Epoch 277/300\n",
            "63/63 [==============================] - 3s 49ms/step - loss: 0.0029\n",
            "Epoch 278/300\n",
            "63/63 [==============================] - 3s 51ms/step - loss: 0.0029\n",
            "Epoch 279/300\n",
            "63/63 [==============================] - 3s 51ms/step - loss: 0.0031\n",
            "Epoch 280/300\n",
            "63/63 [==============================] - 3s 49ms/step - loss: 0.0029\n",
            "Epoch 281/300\n",
            "63/63 [==============================] - 3s 48ms/step - loss: 0.0029\n",
            "Epoch 282/300\n",
            "63/63 [==============================] - 3s 50ms/step - loss: 0.0028\n",
            "Epoch 283/300\n",
            "63/63 [==============================] - 3s 45ms/step - loss: 0.0029\n",
            "Epoch 284/300\n",
            "63/63 [==============================] - 3s 50ms/step - loss: 0.0028\n",
            "Epoch 285/300\n",
            "63/63 [==============================] - 3s 46ms/step - loss: 0.0030\n",
            "Epoch 286/300\n",
            "63/63 [==============================] - 3s 49ms/step - loss: 0.0030\n",
            "Epoch 287/300\n",
            "63/63 [==============================] - 3s 47ms/step - loss: 0.0030\n",
            "Epoch 288/300\n",
            "63/63 [==============================] - 3s 48ms/step - loss: 0.0028\n",
            "Epoch 289/300\n",
            "63/63 [==============================] - 3s 49ms/step - loss: 0.0028\n",
            "Epoch 290/300\n",
            "63/63 [==============================] - 3s 49ms/step - loss: 0.0028\n",
            "Epoch 291/300\n",
            "63/63 [==============================] - 3s 47ms/step - loss: 0.0030\n",
            "Epoch 292/300\n",
            "63/63 [==============================] - 3s 45ms/step - loss: 0.0029\n",
            "Epoch 293/300\n",
            "63/63 [==============================] - 3s 47ms/step - loss: 0.0029\n",
            "Epoch 294/300\n",
            "63/63 [==============================] - 3s 45ms/step - loss: 0.0029\n",
            "Epoch 295/300\n",
            "63/63 [==============================] - 3s 47ms/step - loss: 0.0029\n",
            "Epoch 296/300\n",
            "63/63 [==============================] - 3s 45ms/step - loss: 0.0028\n",
            "Epoch 297/300\n",
            "63/63 [==============================] - 3s 50ms/step - loss: 0.0028\n",
            "Epoch 298/300\n",
            "63/63 [==============================] - 3s 49ms/step - loss: 0.0028\n",
            "Epoch 299/300\n",
            "63/63 [==============================] - 3s 49ms/step - loss: 0.0030\n",
            "Epoch 300/300\n",
            "63/63 [==============================] - 3s 48ms/step - loss: 0.0031\n"
          ]
        }
      ],
      "source": [
        "history = model.fit(Xtrain,Ytrain,epochs=300, verbose=1)"
      ]
    },
    {
      "cell_type": "code",
      "execution_count": 31,
      "metadata": {
        "id": "9fDEAv_HrBr0",
        "colab": {
          "base_uri": "https://localhost:8080/",
          "height": 372
        },
        "outputId": "4c02cbef-7b34-4940-d78e-3a4bbc0fd3b3"
      },
      "outputs": [
        {
          "output_type": "execute_result",
          "data": {
            "text/plain": [
              "Text(0.5, 1.0, 'Model Accuracy')"
            ]
          },
          "metadata": {},
          "execution_count": 31
        },
        {
          "output_type": "display_data",
          "data": {
            "text/plain": [
              "<Figure size 576x360 with 1 Axes>"
            ],
            "image/png": "[encoded data removed]"
          },
          "metadata": {}
        }
      ],
      "source": [
        "plt.figure(figsize=(8,5))\n",
        "plt.plot(history.history['loss'])\n",
        "plt.xlabel(\"Epochs\")\n",
        "plt.ylabel(\"Loss\")\n",
        "plt.title(\"Model Accuracy\")"
      ]
    },
    {
      "cell_type": "code",
      "execution_count": 32,
      "metadata": {
        "id": "aE-MOCLvrBr0"
      },
      "outputs": [],
      "source": [
        "import pickle"
      ]
    },
    {
      "cell_type": "code",
      "source": [
        "pickle.dump(model,open('lstm_model.pkl','wb'))"
      ],
      "metadata": {
        "id": "kDU8als1r68z"
      },
      "execution_count": 33,
      "outputs": []
    },
    {
      "cell_type": "code",
      "execution_count": 34,
      "metadata": {
        "id": "N3P2si9BzQ4G"
      },
      "outputs": [],
      "source": [
        "model.save('lstm_mode_mrunal.dell')"
      ]
    },
    {
      "cell_type": "code",
      "source": [
        "preds= model.predict(Xtest)\n",
        "preds = scaler.inverse_transform(preds)\n",
        "\n",
        "\n",
        "Ytest=np.asanyarray(Ytest)  \n",
        "Ytest=Ytest.reshape(-1,1) \n",
        "Ytest = scaler.inverse_transform(Ytest)\n",
        "\n",
        "\n",
        "Ytrain=np.asanyarray(Ytrain)  \n",
        "Ytrain=Ytrain.reshape(-1,1) \n",
        "Ytrain = scaler.inverse_transform(Ytrain)\n",
        "\n",
        "mean_squared_error(Ytest,preds)"
      ],
      "metadata": {
        "id": "1K5YjZAghv5b",
        "colab": {
          "base_uri": "https://localhost:8080/"
        },
        "outputId": "30f9f989-b876-418f-c2af-dbe4961af0e9"
      },
      "execution_count": 35,
      "outputs": [
        {
          "output_type": "stream",
          "name": "stdout",
          "text": [
            "5/5 [==============================] - 1s 14ms/step\n"
          ]
        },
        {
          "output_type": "execute_result",
          "data": {
            "text/plain": [
              "5789.983"
            ]
          },
          "metadata": {},
          "execution_count": 35
        }
      ]
    },
    {
      "cell_type": "code",
      "source": [
        "pre= model.predict(Xtrain)\n",
        "pre = scaler.inverse_transform(pre)"
      ],
      "metadata": {
        "id": "pRZBNhE05Bmp",
        "colab": {
          "base_uri": "https://localhost:8080/"
        },
        "outputId": "1eb8e95b-9c67-4269-fd3b-1381a76a55bd"
      },
      "execution_count": 36,
      "outputs": [
        {
          "output_type": "stream",
          "name": "stdout",
          "text": [
            "63/63 [==============================] - 1s 14ms/step\n"
          ]
        }
      ]
    },
    {
      "cell_type": "code",
      "source": [
        "plt.figure(figsize=(20,9))\n",
        "plt.plot(Ytrain , 'green', linewidth=5)\n",
        "plt.plot(pre,'orange' , linewidth=4)\n",
        "plt.legend(('Train','Predicted'))\n",
        "plt.title(\"price Prediction\")\n",
        "plt.show()"
      ],
      "metadata": {
        "id": "yrwkcjip5WEt",
        "colab": {
          "base_uri": "https://localhost:8080/",
          "height": 531
        },
        "outputId": "eb834f2f-191d-41f9-bade-e8de3cc3da64"
      },
      "execution_count": 37,
      "outputs": [
        {
          "output_type": "display_data",
          "data": {
            "text/plain": [
              "<Figure size 1440x648 with 1 Axes>"
            ],
            "image/png": "[encoded data removed]"
          },
          "metadata": {}
        }
      ]
    },
    {
      "cell_type": "code",
      "execution_count": 38,
      "metadata": {
        "id": "ZPd2zUDarBr1",
        "colab": {
          "base_uri": "https://localhost:8080/",
          "height": 531
        },
        "outputId": "cabbfa7e-61ee-43dc-ee82-7e247d3995e9"
      },
      "outputs": [
        {
          "output_type": "display_data",
          "data": {
            "text/plain": [
              "<Figure size 1440x648 with 1 Axes>"
            ],
            "image/png": "[encoded data removed]"
          },
          "metadata": {}
        }
      ],
      "source": [
        "plt.figure(figsize=(20,9))\n",
        "plt.plot(Ytest , 'green', linewidth=5)\n",
        "plt.plot(preds,'red' , linewidth=4)\n",
        "plt.legend(('Test','Predicted'))\n",
        "plt.title(\"price Prediction\")\n",
        "plt.show()"
      ]
    },
    {
      "cell_type": "code",
      "execution_count": 39,
      "metadata": {
        "id": "IsEllxAxrBr1"
      },
      "outputs": [],
      "source": [
        "edtest = pd.DataFrame(Ytest,columns=['Actual'])\n",
        "pred = pd.DataFrame(preds,columns=['Predict'])"
      ]
    },
    {
      "cell_type": "code",
      "execution_count": 40,
      "metadata": {
        "id": "oZf6QnfyrBr2"
      },
      "outputs": [],
      "source": [
        "results = pd.concat([edtest,pred],axis=1)"
      ]
    },
    {
      "cell_type": "code",
      "execution_count": 41,
      "metadata": {
        "id": "ecmbJ38lrBr2",
        "colab": {
          "base_uri": "https://localhost:8080/",
          "height": 676
        },
        "outputId": "a6f566f1-2e56-400c-e850-4b75b5b6ac55"
      },
      "outputs": [
        {
          "output_type": "execute_result",
          "data": {
            "text/plain": [
              "         Actual      Predict\n",
              "0   4304.100098  4329.503418\n",
              "1   4306.700195  4310.002441\n",
              "2   4306.700195  4318.436035\n",
              "3   4294.299805  4309.840332\n",
              "4   4308.600098  4296.595215\n",
              "5   4317.700195  4316.924316\n",
              "6   4357.899902  4322.848145\n",
              "7   4331.700195  4362.026855\n",
              "8   4331.100098  4313.306641\n",
              "9   4347.299805  4331.544434\n",
              "10  4293.899902  4228.554199\n",
              "11  3967.300049  4261.309082\n",
              "12  4203.799805  4020.747559\n",
              "13  4306.899902  4230.474121\n",
              "14  4436.299805  4299.687012\n",
              "15  4327.200195  4339.001953\n",
              "16  4217.000000  4259.788574\n",
              "17  4236.799805  4212.245605\n",
              "18  4230.200195  4240.399902\n",
              "19  4331.700195  4238.540039"
            ],
            "text/html": [
              "\n",
              "  <div id=\"df-c32c14d9-d93c-4793-ac60-a0b39a26b61e\">\n",
              "    <div class=\"colab-df-container\">\n",
              "      <div>\n",
              "<style scoped>\n",
              "    .dataframe tbody tr th:only-of-type {\n",
              "        vertical-align: middle;\n",
              "    }\n",
              "\n",
              "    .dataframe tbody tr th {\n",
              "        vertical-align: top;\n",
              "    }\n",
              "\n",
              "    .dataframe thead th {\n",
              "        text-align: right;\n",
              "    }\n",
              "</style>\n",
              "<table border=\"1\" class=\"dataframe\">\n",
              "  <thead>\n",
              "    <tr style=\"text-align: right;\">\n",
              "      <th></th>\n",
              "      <th>Actual</th>\n",
              "      <th>Predict</th>\n",
              "    </tr>\n",
              "  </thead>\n",
              "  <tbody>\n",
              "    <tr>\n",
              "      <th>0</th>\n",
              "      <td>4304.100098</td>\n",
              "      <td>4329.503418</td>\n",
              "    </tr>\n",
              "    <tr>\n",
              "      <th>1</th>\n",
              "      <td>4306.700195</td>\n",
              "      <td>4310.002441</td>\n",
              "    </tr>\n",
              "    <tr>\n",
              "      <th>2</th>\n",
              "      <td>4306.700195</td>\n",
              "      <td>4318.436035</td>\n",
              "    </tr>\n",
              "    <tr>\n",
              "      <th>3</th>\n",
              "      <td>4294.299805</td>\n",
              "      <td>4309.840332</td>\n",
              "    </tr>\n",
              "    <tr>\n",
              "      <th>4</th>\n",
              "      <td>4308.600098</td>\n",
              "      <td>4296.595215</td>\n",
              "    </tr>\n",
              "    <tr>\n",
              "      <th>5</th>\n",
              "      <td>4317.700195</td>\n",
              "      <td>4316.924316</td>\n",
              "    </tr>\n",
              "    <tr>\n",
              "      <th>6</th>\n",
              "      <td>4357.899902</td>\n",
              "      <td>4322.848145</td>\n",
              "    </tr>\n",
              "    <tr>\n",
              "      <th>7</th>\n",
              "      <td>4331.700195</td>\n",
              "      <td>4362.026855</td>\n",
              "    </tr>\n",
              "    <tr>\n",
              "      <th>8</th>\n",
              "      <td>4331.100098</td>\n",
              "      <td>4313.306641</td>\n",
              "    </tr>\n",
              "    <tr>\n",
              "      <th>9</th>\n",
              "      <td>4347.299805</td>\n",
              "      <td>4331.544434</td>\n",
              "    </tr>\n",
              "    <tr>\n",
              "      <th>10</th>\n",
              "      <td>4293.899902</td>\n",
              "      <td>4228.554199</td>\n",
              "    </tr>\n",
              "    <tr>\n",
              "      <th>11</th>\n",
              "      <td>3967.300049</td>\n",
              "      <td>4261.309082</td>\n",
              "    </tr>\n",
              "    <tr>\n",
              "      <th>12</th>\n",
              "      <td>4203.799805</td>\n",
              "      <td>4020.747559</td>\n",
              "    </tr>\n",
              "    <tr>\n",
              "      <th>13</th>\n",
              "      <td>4306.899902</td>\n",
              "      <td>4230.474121</td>\n",
              "    </tr>\n",
              "    <tr>\n",
              "      <th>14</th>\n",
              "      <td>4436.299805</td>\n",
              "      <td>4299.687012</td>\n",
              "    </tr>\n",
              "    <tr>\n",
              "      <th>15</th>\n",
              "      <td>4327.200195</td>\n",
              "      <td>4339.001953</td>\n",
              "    </tr>\n",
              "    <tr>\n",
              "      <th>16</th>\n",
              "      <td>4217.000000</td>\n",
              "      <td>4259.788574</td>\n",
              "    </tr>\n",
              "    <tr>\n",
              "      <th>17</th>\n",
              "      <td>4236.799805</td>\n",
              "      <td>4212.245605</td>\n",
              "    </tr>\n",
              "    <tr>\n",
              "      <th>18</th>\n",
              "      <td>4230.200195</td>\n",
              "      <td>4240.399902</td>\n",
              "    </tr>\n",
              "    <tr>\n",
              "      <th>19</th>\n",
              "      <td>4331.700195</td>\n",
              "      <td>4238.540039</td>\n",
              "    </tr>\n",
              "  </tbody>\n",
              "</table>\n",
              "</div>\n",
              "      <button class=\"colab-df-convert\" onclick=\"convertToInteractive('df-c32c14d9-d93c-4793-ac60-a0b39a26b61e')\"\n",
              "              title=\"Convert this dataframe to an interactive table.\"\n",
              "              style=\"display:none;\">\n",
              "        \n",
              "  <svg xmlns=\"http://www.w3.org/2000/svg\" height=\"24px\"viewBox=\"0 0 24 24\"\n",
              "       width=\"24px\">\n",
              "    <path d=\"M0 0h24v24H0V0z\" fill=\"none\"/>\n",
              "    <path d=\"M18.56 5.44l.94 2.06.94-2.06 2.06-.94-2.06-.94-.94-2.06-.94 2.06-2.06.94zm-11 1L8.5 8.5l.94-2.06 2.06-.94-2.06-.94L8.5 2.5l-.94 2.06-2.06.94zm10 10l.94 2.06.94-2.06 2.06-.94-2.06-.94-.94-2.06-.94 2.06-2.06.94z\"/><path d=\"M17.41 7.96l-1.37-1.37c-.4-.4-.92-.59-1.43-.59-.52 0-1.04.2-1.43.59L10.3 9.45l-7.72 7.72c-.78.78-.78 2.05 0 2.83L4 21.41c.39.39.9.59 1.41.59.51 0 1.02-.2 1.41-.59l7.78-7.78 2.81-2.81c.8-.78.8-2.07 0-2.86zM5.41 20L4 18.59l7.72-7.72 1.47 1.35L5.41 20z\"/>\n",
              "  </svg>\n",
              "      </button>\n",
              "      \n",
              "  <style>\n",
              "    .colab-df-container {\n",
              "      display:flex;\n",
              "      flex-wrap:wrap;\n",
              "      gap: 12px;\n",
              "    }\n",
              "\n",
              "    .colab-df-convert {\n",
              "      background-color: #E8F0FE;\n",
              "      border: none;\n",
              "      border-radius: 50%;\n",
              "      cursor: pointer;\n",
              "      display: none;\n",
              "      fill: #1967D2;\n",
              "      height: 32px;\n",
              "      padding: 0 0 0 0;\n",
              "      width: 32px;\n",
              "    }\n",
              "\n",
              "    .colab-df-convert:hover {\n",
              "      background-color: #E2EBFA;\n",
              "      box-shadow: 0px 1px 2px rgba(60, 64, 67, 0.3), 0px 1px 3px 1px rgba(60, 64, 67, 0.15);\n",
              "      fill: #174EA6;\n",
              "    }\n",
              "\n",
              "    [theme=dark] .colab-df-convert {\n",
              "      background-color: #3B4455;\n",
              "      fill: #D2E3FC;\n",
              "    }\n",
              "\n",
              "    [theme=dark] .colab-df-convert:hover {\n",
              "      background-color: #434B5C;\n",
              "      box-shadow: 0px 1px 3px 1px rgba(0, 0, 0, 0.15);\n",
              "      filter: drop-shadow(0px 1px 2px rgba(0, 0, 0, 0.3));\n",
              "      fill: #FFFFFF;\n",
              "    }\n",
              "  </style>\n",
              "\n",
              "      <script>\n",
              "        const buttonEl =\n",
              "          document.querySelector('#df-c32c14d9-d93c-4793-ac60-a0b39a26b61e button.colab-df-convert');\n",
              "        buttonEl.style.display =\n",
              "          google.colab.kernel.accessAllowed ? 'block' : 'none';\n",
              "\n",
              "        async function convertToInteractive(key) {\n",
              "          const element = document.querySelector('#df-c32c14d9-d93c-4793-ac60-a0b39a26b61e');\n",
              "          const dataTable =\n",
              "            await google.colab.kernel.invokeFunction('convertToInteractive',\n",
              "                                                     [key], {});\n",
              "          if (!dataTable) return;\n",
              "\n",
              "          const docLinkHtml = 'Like what you see? Visit the ' +\n",
              "            '<a target=\"_blank\" href=https://colab.research.google.com/notebooks/data_table.ipynb>data table notebook</a>'\n",
              "            + ' to learn more about interactive tables.';\n",
              "          element.innerHTML = '';\n",
              "          dataTable['output_type'] = 'display_data';\n",
              "          await google.colab.output.renderOutput(dataTable, element);\n",
              "          const docLink = document.createElement('div');\n",
              "          docLink.innerHTML = docLinkHtml;\n",
              "          element.appendChild(docLink);\n",
              "        }\n",
              "      </script>\n",
              "    </div>\n",
              "  </div>\n",
              "  "
            ]
          },
          "metadata": {},
          "execution_count": 41
        }
      ],
      "source": [
        "results.head(20)"
      ]
    },
    {
      "cell_type": "code",
      "execution_count": 42,
      "metadata": {
        "id": "KDexM3E6rBr2"
      },
      "outputs": [],
      "source": [
        "def insert_end(Xin,new_input):\n",
        "    #print ('Before: \\n', Xin , new_input )\n",
        "    for i in range(timestep-1):\n",
        "        Xin[:,i,:] = Xin[:,i+1,:]\n",
        "    Xin[:,timestep-1,:] = new_input\n",
        "    #print ('After :\\n', Xin)\n",
        "    return Xin\n"
      ]
    },
    {
      "cell_type": "code",
      "execution_count": 43,
      "metadata": {
        "id": "rPZrhRrkrBr3",
        "colab": {
          "base_uri": "https://localhost:8080/",
          "height": 455
        },
        "outputId": "993a6be0-2f2d-403b-dec9-daf9733779fc"
      },
      "outputs": [
        {
          "output_type": "execute_result",
          "data": {
            "text/plain": [
              "              price\n",
              "date               \n",
              "2016-01-01  2252.60\n",
              "2016-01-02  2454.50\n",
              "2016-01-03  2708.10\n",
              "2016-01-04  2577.80\n",
              "2016-01-05  2597.75\n",
              "...             ...\n",
              "2021-12-17  4394.40\n",
              "2021-12-18  4389.50\n",
              "2021-12-19  4389.50\n",
              "2021-12-20  4354.10\n",
              "2021-12-21  4346.50\n",
              "\n",
              "[2182 rows x 1 columns]"
            ],
            "text/html": [
              "\n",
              "  <div id=\"df-35187d3c-ec27-44fb-b499-75d182ff5a09\">\n",
              "    <div class=\"colab-df-container\">\n",
              "      <div>\n",
              "<style scoped>\n",
              "    .dataframe tbody tr th:only-of-type {\n",
              "        vertical-align: middle;\n",
              "    }\n",
              "\n",
              "    .dataframe tbody tr th {\n",
              "        vertical-align: top;\n",
              "    }\n",
              "\n",
              "    .dataframe thead th {\n",
              "        text-align: right;\n",
              "    }\n",
              "</style>\n",
              "<table border=\"1\" class=\"dataframe\">\n",
              "  <thead>\n",
              "    <tr style=\"text-align: right;\">\n",
              "      <th></th>\n",
              "      <th>price</th>\n",
              "    </tr>\n",
              "    <tr>\n",
              "      <th>date</th>\n",
              "      <th></th>\n",
              "    </tr>\n",
              "  </thead>\n",
              "  <tbody>\n",
              "    <tr>\n",
              "      <th>2016-01-01</th>\n",
              "      <td>2252.60</td>\n",
              "    </tr>\n",
              "    <tr>\n",
              "      <th>2016-01-02</th>\n",
              "      <td>2454.50</td>\n",
              "    </tr>\n",
              "    <tr>\n",
              "      <th>2016-01-03</th>\n",
              "      <td>2708.10</td>\n",
              "    </tr>\n",
              "    <tr>\n",
              "      <th>2016-01-04</th>\n",
              "      <td>2577.80</td>\n",
              "    </tr>\n",
              "    <tr>\n",
              "      <th>2016-01-05</th>\n",
              "      <td>2597.75</td>\n",
              "    </tr>\n",
              "    <tr>\n",
              "      <th>...</th>\n",
              "      <td>...</td>\n",
              "    </tr>\n",
              "    <tr>\n",
              "      <th>2021-12-17</th>\n",
              "      <td>4394.40</td>\n",
              "    </tr>\n",
              "    <tr>\n",
              "      <th>2021-12-18</th>\n",
              "      <td>4389.50</td>\n",
              "    </tr>\n",
              "    <tr>\n",
              "      <th>2021-12-19</th>\n",
              "      <td>4389.50</td>\n",
              "    </tr>\n",
              "    <tr>\n",
              "      <th>2021-12-20</th>\n",
              "      <td>4354.10</td>\n",
              "    </tr>\n",
              "    <tr>\n",
              "      <th>2021-12-21</th>\n",
              "      <td>4346.50</td>\n",
              "    </tr>\n",
              "  </tbody>\n",
              "</table>\n",
              "<p>2182 rows × 1 columns</p>\n",
              "</div>\n",
              "      <button class=\"colab-df-convert\" onclick=\"convertToInteractive('df-35187d3c-ec27-44fb-b499-75d182ff5a09')\"\n",
              "              title=\"Convert this dataframe to an interactive table.\"\n",
              "              style=\"display:none;\">\n",
              "        \n",
              "  <svg xmlns=\"http://www.w3.org/2000/svg\" height=\"24px\"viewBox=\"0 0 24 24\"\n",
              "       width=\"24px\">\n",
              "    <path d=\"M0 0h24v24H0V0z\" fill=\"none\"/>\n",
              "    <path d=\"M18.56 5.44l.94 2.06.94-2.06 2.06-.94-2.06-.94-.94-2.06-.94 2.06-2.06.94zm-11 1L8.5 8.5l.94-2.06 2.06-.94-2.06-.94L8.5 2.5l-.94 2.06-2.06.94zm10 10l.94 2.06.94-2.06 2.06-.94-2.06-.94-.94-2.06-.94 2.06-2.06.94z\"/><path d=\"M17.41 7.96l-1.37-1.37c-.4-.4-.92-.59-1.43-.59-.52 0-1.04.2-1.43.59L10.3 9.45l-7.72 7.72c-.78.78-.78 2.05 0 2.83L4 21.41c.39.39.9.59 1.41.59.51 0 1.02-.2 1.41-.59l7.78-7.78 2.81-2.81c.8-.78.8-2.07 0-2.86zM5.41 20L4 18.59l7.72-7.72 1.47 1.35L5.41 20z\"/>\n",
              "  </svg>\n",
              "      </button>\n",
              "      \n",
              "  <style>\n",
              "    .colab-df-container {\n",
              "      display:flex;\n",
              "      flex-wrap:wrap;\n",
              "      gap: 12px;\n",
              "    }\n",
              "\n",
              "    .colab-df-convert {\n",
              "      background-color: #E8F0FE;\n",
              "      border: none;\n",
              "      border-radius: 50%;\n",
              "      cursor: pointer;\n",
              "      display: none;\n",
              "      fill: #1967D2;\n",
              "      height: 32px;\n",
              "      padding: 0 0 0 0;\n",
              "      width: 32px;\n",
              "    }\n",
              "\n",
              "    .colab-df-convert:hover {\n",
              "      background-color: #E2EBFA;\n",
              "      box-shadow: 0px 1px 2px rgba(60, 64, 67, 0.3), 0px 1px 3px 1px rgba(60, 64, 67, 0.15);\n",
              "      fill: #174EA6;\n",
              "    }\n",
              "\n",
              "    [theme=dark] .colab-df-convert {\n",
              "      background-color: #3B4455;\n",
              "      fill: #D2E3FC;\n",
              "    }\n",
              "\n",
              "    [theme=dark] .colab-df-convert:hover {\n",
              "      background-color: #434B5C;\n",
              "      box-shadow: 0px 1px 3px 1px rgba(0, 0, 0, 0.15);\n",
              "      filter: drop-shadow(0px 1px 2px rgba(0, 0, 0, 0.3));\n",
              "      fill: #FFFFFF;\n",
              "    }\n",
              "  </style>\n",
              "\n",
              "      <script>\n",
              "        const buttonEl =\n",
              "          document.querySelector('#df-35187d3c-ec27-44fb-b499-75d182ff5a09 button.colab-df-convert');\n",
              "        buttonEl.style.display =\n",
              "          google.colab.kernel.accessAllowed ? 'block' : 'none';\n",
              "\n",
              "        async function convertToInteractive(key) {\n",
              "          const element = document.querySelector('#df-35187d3c-ec27-44fb-b499-75d182ff5a09');\n",
              "          const dataTable =\n",
              "            await google.colab.kernel.invokeFunction('convertToInteractive',\n",
              "                                                     [key], {});\n",
              "          if (!dataTable) return;\n",
              "\n",
              "          const docLinkHtml = 'Like what you see? Visit the ' +\n",
              "            '<a target=\"_blank\" href=https://colab.research.google.com/notebooks/data_table.ipynb>data table notebook</a>'\n",
              "            + ' to learn more about interactive tables.';\n",
              "          element.innerHTML = '';\n",
              "          dataTable['output_type'] = 'display_data';\n",
              "          await google.colab.output.renderOutput(dataTable, element);\n",
              "          const docLink = document.createElement('div');\n",
              "          docLink.innerHTML = docLinkHtml;\n",
              "          element.appendChild(docLink);\n",
              "        }\n",
              "      </script>\n",
              "    </div>\n",
              "  </div>\n",
              "  "
            ]
          },
          "metadata": {},
          "execution_count": 43
        }
      ],
      "source": [
        "df"
      ]
    },
    {
      "cell_type": "code",
      "execution_count": 44,
      "metadata": {
        "collapsed": true,
        "id": "QZBChOlOrBr3",
        "colab": {
          "base_uri": "https://localhost:8080/"
        },
        "outputId": "1ad4cc0f-de54-4159-a5fb-af6be1b60e5c"
      },
      "outputs": [
        {
          "output_type": "stream",
          "name": "stdout",
          "text": [
            "1/1 [==============================] - 0s 26ms/step\n",
            "[0.5382687]\n",
            "1/1 [==============================] - 0s 25ms/step\n",
            "[0.5382687, 0.5460107]\n",
            "1/1 [==============================] - 0s 28ms/step\n",
            "[0.5382687, 0.5460107, 0.5583703]\n",
            "1/1 [==============================] - 0s 35ms/step\n",
            "[0.5382687, 0.5460107, 0.5583703, 0.5687178]\n",
            "1/1 [==============================] - 0s 29ms/step\n",
            "[0.5382687, 0.5460107, 0.5583703, 0.5687178, 0.57473]\n",
            "1/1 [==============================] - 0s 31ms/step\n",
            "[0.5382687, 0.5460107, 0.5583703, 0.5687178, 0.57473, 0.5744428]\n",
            "1/1 [==============================] - 0s 29ms/step\n",
            "[0.5382687, 0.5460107, 0.5583703, 0.5687178, 0.57473, 0.5744428, 0.5722944]\n",
            "1/1 [==============================] - 0s 28ms/step\n",
            "[0.5382687, 0.5460107, 0.5583703, 0.5687178, 0.57473, 0.5744428, 0.5722944, 0.57327235]\n",
            "1/1 [==============================] - 0s 33ms/step\n",
            "[0.5382687, 0.5460107, 0.5583703, 0.5687178, 0.57473, 0.5744428, 0.5722944, 0.57327235, 0.5787774]\n",
            "1/1 [==============================] - 0s 25ms/step\n",
            "[0.5382687, 0.5460107, 0.5583703, 0.5687178, 0.57473, 0.5744428, 0.5722944, 0.57327235, 0.5787774, 0.5908524]\n",
            "1/1 [==============================] - 0s 28ms/step\n",
            "[0.5382687, 0.5460107, 0.5583703, 0.5687178, 0.57473, 0.5744428, 0.5722944, 0.57327235, 0.5787774, 0.5908524, 0.592112]\n",
            "1/1 [==============================] - 0s 25ms/step\n",
            "[0.5382687, 0.5460107, 0.5583703, 0.5687178, 0.57473, 0.5744428, 0.5722944, 0.57327235, 0.5787774, 0.5908524, 0.592112, 0.6062291]\n",
            "1/1 [==============================] - 0s 30ms/step\n",
            "[0.5382687, 0.5460107, 0.5583703, 0.5687178, 0.57473, 0.5744428, 0.5722944, 0.57327235, 0.5787774, 0.5908524, 0.592112, 0.6062291, 0.48280907]\n",
            "1/1 [==============================] - 0s 29ms/step\n",
            "[0.5382687, 0.5460107, 0.5583703, 0.5687178, 0.57473, 0.5744428, 0.5722944, 0.57327235, 0.5787774, 0.5908524, 0.592112, 0.6062291, 0.48280907, 0.4213394]\n",
            "1/1 [==============================] - 0s 26ms/step\n",
            "[0.5382687, 0.5460107, 0.5583703, 0.5687178, 0.57473, 0.5744428, 0.5722944, 0.57327235, 0.5787774, 0.5908524, 0.592112, 0.6062291, 0.48280907, 0.4213394, 0.47289962]\n",
            "1/1 [==============================] - 0s 27ms/step\n",
            "[0.5382687, 0.5460107, 0.5583703, 0.5687178, 0.57473, 0.5744428, 0.5722944, 0.57327235, 0.5787774, 0.5908524, 0.592112, 0.6062291, 0.48280907, 0.4213394, 0.47289962, 0.50346565]\n",
            "1/1 [==============================] - 0s 27ms/step\n",
            "[0.5382687, 0.5460107, 0.5583703, 0.5687178, 0.57473, 0.5744428, 0.5722944, 0.57327235, 0.5787774, 0.5908524, 0.592112, 0.6062291, 0.48280907, 0.4213394, 0.47289962, 0.50346565, 0.5475401]\n",
            "1/1 [==============================] - 0s 28ms/step\n",
            "[0.5382687, 0.5460107, 0.5583703, 0.5687178, 0.57473, 0.5744428, 0.5722944, 0.57327235, 0.5787774, 0.5908524, 0.592112, 0.6062291, 0.48280907, 0.4213394, 0.47289962, 0.50346565, 0.5475401, 0.5381788]\n",
            "1/1 [==============================] - 0s 28ms/step\n",
            "[0.5382687, 0.5460107, 0.5583703, 0.5687178, 0.57473, 0.5744428, 0.5722944, 0.57327235, 0.5787774, 0.5908524, 0.592112, 0.6062291, 0.48280907, 0.4213394, 0.47289962, 0.50346565, 0.5475401, 0.5381788, 0.520237]\n",
            "1/1 [==============================] - 0s 37ms/step\n",
            "[0.5382687, 0.5460107, 0.5583703, 0.5687178, 0.57473, 0.5744428, 0.5722944, 0.57327235, 0.5787774, 0.5908524, 0.592112, 0.6062291, 0.48280907, 0.4213394, 0.47289962, 0.50346565, 0.5475401, 0.5381788, 0.520237, 0.5105805]\n",
            "1/1 [==============================] - 0s 25ms/step\n",
            "[0.5382687, 0.5460107, 0.5583703, 0.5687178, 0.57473, 0.5744428, 0.5722944, 0.57327235, 0.5787774, 0.5908524, 0.592112, 0.6062291, 0.48280907, 0.4213394, 0.47289962, 0.50346565, 0.5475401, 0.5381788, 0.520237, 0.5105805, 0.49702626]\n",
            "1/1 [==============================] - 0s 28ms/step\n",
            "[0.5382687, 0.5460107, 0.5583703, 0.5687178, 0.57473, 0.5744428, 0.5722944, 0.57327235, 0.5787774, 0.5908524, 0.592112, 0.6062291, 0.48280907, 0.4213394, 0.47289962, 0.50346565, 0.5475401, 0.5381788, 0.520237, 0.5105805, 0.49702626, 0.49854374]\n",
            "1/1 [==============================] - 0s 27ms/step\n",
            "[0.5382687, 0.5460107, 0.5583703, 0.5687178, 0.57473, 0.5744428, 0.5722944, 0.57327235, 0.5787774, 0.5908524, 0.592112, 0.6062291, 0.48280907, 0.4213394, 0.47289962, 0.50346565, 0.5475401, 0.5381788, 0.520237, 0.5105805, 0.49702626, 0.49854374, 0.50449246]\n",
            "1/1 [==============================] - 0s 40ms/step\n",
            "[0.5382687, 0.5460107, 0.5583703, 0.5687178, 0.57473, 0.5744428, 0.5722944, 0.57327235, 0.5787774, 0.5908524, 0.592112, 0.6062291, 0.48280907, 0.4213394, 0.47289962, 0.50346565, 0.5475401, 0.5381788, 0.520237, 0.5105805, 0.49702626, 0.49854374, 0.50449246, 0.5099837]\n",
            "1/1 [==============================] - 0s 36ms/step\n",
            "[0.5382687, 0.5460107, 0.5583703, 0.5687178, 0.57473, 0.5744428, 0.5722944, 0.57327235, 0.5787774, 0.5908524, 0.592112, 0.6062291, 0.48280907, 0.4213394, 0.47289962, 0.50346565, 0.5475401, 0.5381788, 0.520237, 0.5105805, 0.49702626, 0.49854374, 0.50449246, 0.5099837, 0.50914234]\n",
            "1/1 [==============================] - 0s 33ms/step\n",
            "[0.5382687, 0.5460107, 0.5583703, 0.5687178, 0.57473, 0.5744428, 0.5722944, 0.57327235, 0.5787774, 0.5908524, 0.592112, 0.6062291, 0.48280907, 0.4213394, 0.47289962, 0.50346565, 0.5475401, 0.5381788, 0.520237, 0.5105805, 0.49702626, 0.49854374, 0.50449246, 0.5099837, 0.50914234, 0.49820685]\n",
            "1/1 [==============================] - 0s 28ms/step\n",
            "[0.5382687, 0.5460107, 0.5583703, 0.5687178, 0.57473, 0.5744428, 0.5722944, 0.57327235, 0.5787774, 0.5908524, 0.592112, 0.6062291, 0.48280907, 0.4213394, 0.47289962, 0.50346565, 0.5475401, 0.5381788, 0.520237, 0.5105805, 0.49702626, 0.49854374, 0.50449246, 0.5099837, 0.50914234, 0.49820685, 0.48920363]\n",
            "1/1 [==============================] - 0s 25ms/step\n",
            "[0.5382687, 0.5460107, 0.5583703, 0.5687178, 0.57473, 0.5744428, 0.5722944, 0.57327235, 0.5787774, 0.5908524, 0.592112, 0.6062291, 0.48280907, 0.4213394, 0.47289962, 0.50346565, 0.5475401, 0.5381788, 0.520237, 0.5105805, 0.49702626, 0.49854374, 0.50449246, 0.5099837, 0.50914234, 0.49820685, 0.48920363, 0.486252]\n",
            "1/1 [==============================] - 0s 26ms/step\n",
            "[0.5382687, 0.5460107, 0.5583703, 0.5687178, 0.57473, 0.5744428, 0.5722944, 0.57327235, 0.5787774, 0.5908524, 0.592112, 0.6062291, 0.48280907, 0.4213394, 0.47289962, 0.50346565, 0.5475401, 0.5381788, 0.520237, 0.5105805, 0.49702626, 0.49854374, 0.50449246, 0.5099837, 0.50914234, 0.49820685, 0.48920363, 0.486252, 0.48553473]\n",
            "1/1 [==============================] - 0s 32ms/step\n",
            "[0.5382687, 0.5460107, 0.5583703, 0.5687178, 0.57473, 0.5744428, 0.5722944, 0.57327235, 0.5787774, 0.5908524, 0.592112, 0.6062291, 0.48280907, 0.4213394, 0.47289962, 0.50346565, 0.5475401, 0.5381788, 0.520237, 0.5105805, 0.49702626, 0.49854374, 0.50449246, 0.5099837, 0.50914234, 0.49820685, 0.48920363, 0.486252, 0.48553473, 0.48682344]\n"
          ]
        }
      ],
      "source": [
        "# this section for unknown future\n",
        "#we are getting next 30 steps\n",
        "from datetime import timedelta\n",
        "future=30\n",
        "forcast = []\n",
        "Xin = Xtest[-1:,:,:]\n",
        "time=[]\n",
        "for i in range(future):\n",
        "    out = model.predict(Xin, batch_size=1)    \n",
        "    forcast.append(out[0,0]) \n",
        "    print(forcast)\n",
        "    Xin = insert_end(Xin,out[0,0]) \n",
        "    time.append(pd.to_datetime(df.index[-1])+timedelta(days=i+1))\n"
      ]
    },
    {
      "cell_type": "code",
      "execution_count": 45,
      "metadata": {
        "id": "xruekVgOrBr4"
      },
      "outputs": [],
      "source": [
        "forcasted_output=np.asanyarray(forcast)   \n",
        "forcasted_output=forcasted_output.reshape(-1,1) \n",
        "forcasted_output = scaler.inverse_transform(forcasted_output) "
      ]
    },
    {
      "cell_type": "code",
      "execution_count": 46,
      "metadata": {
        "id": "yVzjkK2frBr4"
      },
      "outputs": [],
      "source": [
        "forcasted_output = pd.DataFrame(forcasted_output)\n",
        "date = pd.DataFrame(time)\n",
        "df_result = pd.concat([date,forcasted_output],axis=1)\n",
        "df_result.columns = \"Date\",\"Forecasted\""
      ]
    },
    {
      "cell_type": "code",
      "execution_count": 47,
      "metadata": {
        "id": "_NipD6I9rBr5",
        "colab": {
          "base_uri": "https://localhost:8080/"
        },
        "outputId": "2d7c46bd-9cde-4401-f874-ed62b0b5e427"
      },
      "outputs": [
        {
          "output_type": "execute_result",
          "data": {
            "text/plain": [
              "Index(['price'], dtype='object')"
            ]
          },
          "metadata": {},
          "execution_count": 47
        }
      ],
      "source": [
        "df.columns"
      ]
    },
    {
      "cell_type": "code",
      "execution_count": 48,
      "metadata": {
        "id": "JQMHg922rBr5",
        "colab": {
          "base_uri": "https://localhost:8080/",
          "height": 990
        },
        "outputId": "43cdec5f-9743-457c-af2b-4b554e7358a1"
      },
      "outputs": [
        {
          "output_type": "execute_result",
          "data": {
            "text/plain": [
              "         Date   Forecasted\n",
              "0  2021-12-22  4339.799805\n",
              "1  2021-12-23  4350.304688\n",
              "2  2021-12-24  4367.074707\n",
              "3  2021-12-25  4381.114258\n",
              "4  2021-12-26  4389.271973\n",
              "5  2021-12-27  4388.882812\n",
              "6  2021-12-28  4385.967773\n",
              "7  2021-12-29  4387.294434\n",
              "8  2021-12-30  4394.763672\n",
              "9  2021-12-31  4411.147949\n",
              "10 2022-01-01  4412.856934\n",
              "11 2022-01-02  4432.011719\n",
              "12 2022-01-03  4264.549316\n",
              "13 2022-01-04  4181.144531\n",
              "14 2022-01-05  4251.104004\n",
              "15 2022-01-06  4292.577148\n",
              "16 2022-01-07  4352.379883\n",
              "17 2022-01-08  4339.677734\n",
              "18 2022-01-09  4315.333496\n",
              "19 2022-01-10  4302.230957\n",
              "20 2022-01-11  4283.839844\n",
              "21 2022-01-12  4285.898926\n",
              "22 2022-01-13  4293.970703\n",
              "23 2022-01-14  4301.421387\n",
              "24 2022-01-15  4300.279785\n",
              "25 2022-01-16  4285.441895\n",
              "26 2022-01-17  4273.226074\n",
              "27 2022-01-18  4269.221191\n",
              "28 2022-01-19  4268.247559\n",
              "29 2022-01-20  4269.996582"
            ],
            "text/html": [
              "\n",
              "  <div id=\"df-b81ffdad-8994-4e18-a88d-39a1459b8b4e\">\n",
              "    <div class=\"colab-df-container\">\n",
              "      <div>\n",
              "<style scoped>\n",
              "    .dataframe tbody tr th:only-of-type {\n",
              "        vertical-align: middle;\n",
              "    }\n",
              "\n",
              "    .dataframe tbody tr th {\n",
              "        vertical-align: top;\n",
              "    }\n",
              "\n",
              "    .dataframe thead th {\n",
              "        text-align: right;\n",
              "    }\n",
              "</style>\n",
              "<table border=\"1\" class=\"dataframe\">\n",
              "  <thead>\n",
              "    <tr style=\"text-align: right;\">\n",
              "      <th></th>\n",
              "      <th>Date</th>\n",
              "      <th>Forecasted</th>\n",
              "    </tr>\n",
              "  </thead>\n",
              "  <tbody>\n",
              "    <tr>\n",
              "      <th>0</th>\n",
              "      <td>2021-12-22</td>\n",
              "      <td>4339.799805</td>\n",
              "    </tr>\n",
              "    <tr>\n",
              "      <th>1</th>\n",
              "      <td>2021-12-23</td>\n",
              "      <td>4350.304688</td>\n",
              "    </tr>\n",
              "    <tr>\n",
              "      <th>2</th>\n",
              "      <td>2021-12-24</td>\n",
              "      <td>4367.074707</td>\n",
              "    </tr>\n",
              "    <tr>\n",
              "      <th>3</th>\n",
              "      <td>2021-12-25</td>\n",
              "      <td>4381.114258</td>\n",
              "    </tr>\n",
              "    <tr>\n",
              "      <th>4</th>\n",
              "      <td>2021-12-26</td>\n",
              "      <td>4389.271973</td>\n",
              "    </tr>\n",
              "    <tr>\n",
              "      <th>5</th>\n",
              "      <td>2021-12-27</td>\n",
              "      <td>4388.882812</td>\n",
              "    </tr>\n",
              "    <tr>\n",
              "      <th>6</th>\n",
              "      <td>2021-12-28</td>\n",
              "      <td>4385.967773</td>\n",
              "    </tr>\n",
              "    <tr>\n",
              "      <th>7</th>\n",
              "      <td>2021-12-29</td>\n",
              "      <td>4387.294434</td>\n",
              "    </tr>\n",
              "    <tr>\n",
              "      <th>8</th>\n",
              "      <td>2021-12-30</td>\n",
              "      <td>4394.763672</td>\n",
              "    </tr>\n",
              "    <tr>\n",
              "      <th>9</th>\n",
              "      <td>2021-12-31</td>\n",
              "      <td>4411.147949</td>\n",
              "    </tr>\n",
              "    <tr>\n",
              "      <th>10</th>\n",
              "      <td>2022-01-01</td>\n",
              "      <td>4412.856934</td>\n",
              "    </tr>\n",
              "    <tr>\n",
              "      <th>11</th>\n",
              "      <td>2022-01-02</td>\n",
              "      <td>4432.011719</td>\n",
              "    </tr>\n",
              "    <tr>\n",
              "      <th>12</th>\n",
              "      <td>2022-01-03</td>\n",
              "      <td>4264.549316</td>\n",
              "    </tr>\n",
              "    <tr>\n",
              "      <th>13</th>\n",
              "      <td>2022-01-04</td>\n",
              "      <td>4181.144531</td>\n",
              "    </tr>\n",
              "    <tr>\n",
              "      <th>14</th>\n",
              "      <td>2022-01-05</td>\n",
              "      <td>4251.104004</td>\n",
              "    </tr>\n",
              "    <tr>\n",
              "      <th>15</th>\n",
              "      <td>2022-01-06</td>\n",
              "      <td>4292.577148</td>\n",
              "    </tr>\n",
              "    <tr>\n",
              "      <th>16</th>\n",
              "      <td>2022-01-07</td>\n",
              "      <td>4352.379883</td>\n",
              "    </tr>\n",
              "    <tr>\n",
              "      <th>17</th>\n",
              "      <td>2022-01-08</td>\n",
              "      <td>4339.677734</td>\n",
              "    </tr>\n",
              "    <tr>\n",
              "      <th>18</th>\n",
              "      <td>2022-01-09</td>\n",
              "      <td>4315.333496</td>\n",
              "    </tr>\n",
              "    <tr>\n",
              "      <th>19</th>\n",
              "      <td>2022-01-10</td>\n",
              "      <td>4302.230957</td>\n",
              "    </tr>\n",
              "    <tr>\n",
              "      <th>20</th>\n",
              "      <td>2022-01-11</td>\n",
              "      <td>4283.839844</td>\n",
              "    </tr>\n",
              "    <tr>\n",
              "      <th>21</th>\n",
              "      <td>2022-01-12</td>\n",
              "      <td>4285.898926</td>\n",
              "    </tr>\n",
              "    <tr>\n",
              "      <th>22</th>\n",
              "      <td>2022-01-13</td>\n",
              "      <td>4293.970703</td>\n",
              "    </tr>\n",
              "    <tr>\n",
              "      <th>23</th>\n",
              "      <td>2022-01-14</td>\n",
              "      <td>4301.421387</td>\n",
              "    </tr>\n",
              "    <tr>\n",
              "      <th>24</th>\n",
              "      <td>2022-01-15</td>\n",
              "      <td>4300.279785</td>\n",
              "    </tr>\n",
              "    <tr>\n",
              "      <th>25</th>\n",
              "      <td>2022-01-16</td>\n",
              "      <td>4285.441895</td>\n",
              "    </tr>\n",
              "    <tr>\n",
              "      <th>26</th>\n",
              "      <td>2022-01-17</td>\n",
              "      <td>4273.226074</td>\n",
              "    </tr>\n",
              "    <tr>\n",
              "      <th>27</th>\n",
              "      <td>2022-01-18</td>\n",
              "      <td>4269.221191</td>\n",
              "    </tr>\n",
              "    <tr>\n",
              "      <th>28</th>\n",
              "      <td>2022-01-19</td>\n",
              "      <td>4268.247559</td>\n",
              "    </tr>\n",
              "    <tr>\n",
              "      <th>29</th>\n",
              "      <td>2022-01-20</td>\n",
              "      <td>4269.996582</td>\n",
              "    </tr>\n",
              "  </tbody>\n",
              "</table>\n",
              "</div>\n",
              "      <button class=\"colab-df-convert\" onclick=\"convertToInteractive('df-b81ffdad-8994-4e18-a88d-39a1459b8b4e')\"\n",
              "              title=\"Convert this dataframe to an interactive table.\"\n",
              "              style=\"display:none;\">\n",
              "        \n",
              "  <svg xmlns=\"http://www.w3.org/2000/svg\" height=\"24px\"viewBox=\"0 0 24 24\"\n",
              "       width=\"24px\">\n",
              "    <path d=\"M0 0h24v24H0V0z\" fill=\"none\"/>\n",
              "    <path d=\"M18.56 5.44l.94 2.06.94-2.06 2.06-.94-2.06-.94-.94-2.06-.94 2.06-2.06.94zm-11 1L8.5 8.5l.94-2.06 2.06-.94-2.06-.94L8.5 2.5l-.94 2.06-2.06.94zm10 10l.94 2.06.94-2.06 2.06-.94-2.06-.94-.94-2.06-.94 2.06-2.06.94z\"/><path d=\"M17.41 7.96l-1.37-1.37c-.4-.4-.92-.59-1.43-.59-.52 0-1.04.2-1.43.59L10.3 9.45l-7.72 7.72c-.78.78-.78 2.05 0 2.83L4 21.41c.39.39.9.59 1.41.59.51 0 1.02-.2 1.41-.59l7.78-7.78 2.81-2.81c.8-.78.8-2.07 0-2.86zM5.41 20L4 18.59l7.72-7.72 1.47 1.35L5.41 20z\"/>\n",
              "  </svg>\n",
              "      </button>\n",
              "      \n",
              "  <style>\n",
              "    .colab-df-container {\n",
              "      display:flex;\n",
              "      flex-wrap:wrap;\n",
              "      gap: 12px;\n",
              "    }\n",
              "\n",
              "    .colab-df-convert {\n",
              "      background-color: #E8F0FE;\n",
              "      border: none;\n",
              "      border-radius: 50%;\n",
              "      cursor: pointer;\n",
              "      display: none;\n",
              "      fill: #1967D2;\n",
              "      height: 32px;\n",
              "      padding: 0 0 0 0;\n",
              "      width: 32px;\n",
              "    }\n",
              "\n",
              "    .colab-df-convert:hover {\n",
              "      background-color: #E2EBFA;\n",
              "      box-shadow: 0px 1px 2px rgba(60, 64, 67, 0.3), 0px 1px 3px 1px rgba(60, 64, 67, 0.15);\n",
              "      fill: #174EA6;\n",
              "    }\n",
              "\n",
              "    [theme=dark] .colab-df-convert {\n",
              "      background-color: #3B4455;\n",
              "      fill: #D2E3FC;\n",
              "    }\n",
              "\n",
              "    [theme=dark] .colab-df-convert:hover {\n",
              "      background-color: #434B5C;\n",
              "      box-shadow: 0px 1px 3px 1px rgba(0, 0, 0, 0.15);\n",
              "      filter: drop-shadow(0px 1px 2px rgba(0, 0, 0, 0.3));\n",
              "      fill: #FFFFFF;\n",
              "    }\n",
              "  </style>\n",
              "\n",
              "      <script>\n",
              "        const buttonEl =\n",
              "          document.querySelector('#df-b81ffdad-8994-4e18-a88d-39a1459b8b4e button.colab-df-convert');\n",
              "        buttonEl.style.display =\n",
              "          google.colab.kernel.accessAllowed ? 'block' : 'none';\n",
              "\n",
              "        async function convertToInteractive(key) {\n",
              "          const element = document.querySelector('#df-b81ffdad-8994-4e18-a88d-39a1459b8b4e');\n",
              "          const dataTable =\n",
              "            await google.colab.kernel.invokeFunction('convertToInteractive',\n",
              "                                                     [key], {});\n",
              "          if (!dataTable) return;\n",
              "\n",
              "          const docLinkHtml = 'Like what you see? Visit the ' +\n",
              "            '<a target=\"_blank\" href=https://colab.research.google.com/notebooks/data_table.ipynb>data table notebook</a>'\n",
              "            + ' to learn more about interactive tables.';\n",
              "          element.innerHTML = '';\n",
              "          dataTable['output_type'] = 'display_data';\n",
              "          await google.colab.output.renderOutput(dataTable, element);\n",
              "          const docLink = document.createElement('div');\n",
              "          docLink.innerHTML = docLinkHtml;\n",
              "          element.appendChild(docLink);\n",
              "        }\n",
              "      </script>\n",
              "    </div>\n",
              "  </div>\n",
              "  "
            ]
          },
          "metadata": {},
          "execution_count": 48
        }
      ],
      "source": [
        "df_result"
      ]
    },
    {
      "cell_type": "markdown",
      "source": [
        "## Prediction for next 30 days is shown in the graphs"
      ],
      "metadata": {
        "id": "t3Kgg_VzG_W1"
      }
    },
    {
      "cell_type": "code",
      "execution_count": 49,
      "metadata": {
        "id": "f9mmkzairBr5",
        "colab": {
          "base_uri": "https://localhost:8080/",
          "height": 540
        },
        "outputId": "5ed67827-287c-4a07-98b5-51c6093633df"
      },
      "outputs": [
        {
          "output_type": "execute_result",
          "data": {
            "text/plain": [
              "[<matplotlib.lines.Line2D at 0x7f0b37b72af0>]"
            ]
          },
          "metadata": {},
          "execution_count": 49
        },
        {
          "output_type": "display_data",
          "data": {
            "text/plain": [
              "<Figure size 1152x576 with 1 Axes>"
            ],
            "image/png": "[encoded data removed]"
          },
          "metadata": {}
        }
      ],
      "source": [
        "plt.figure(figsize=(16,8))\n",
        "plt.title('Gold price prediction')\n",
        "plt.xlabel('Date', fontsize=18)\n",
        "plt.ylabel('price' ,fontsize=18)\n",
        "plt.plot(df['price'][2000:])\n",
        "plt.plot(df_result.set_index('Date')[['Forecasted']],\"r--\")"
      ]
    },
    {
      "cell_type": "code",
      "execution_count": 50,
      "metadata": {
        "id": "qkwwVBurzCap"
      },
      "outputs": [],
      "source": [
        "from sklearn.metrics import mean_squared_error\n",
        "from statsmodels.tools.eval_measures import rmse\n",
        "  "
      ]
    },
    {
      "cell_type": "code",
      "source": [
        "# Calculate mean squared error\n",
        "mean_squared_error(Ytest, pred)"
      ],
      "metadata": {
        "id": "aRomqdpz6Cq5",
        "colab": {
          "base_uri": "https://localhost:8080/"
        },
        "outputId": "a4a33a4d-3f3b-4984-b35b-6986363b3af3"
      },
      "execution_count": 51,
      "outputs": [
        {
          "output_type": "execute_result",
          "data": {
            "text/plain": [
              "5789.983"
            ]
          },
          "metadata": {},
          "execution_count": 51
        }
      ]
    },
    {
      "cell_type": "code",
      "source": [
        "# Calculate root mean squared error\n",
        "rmse(Ytest, pred)"
      ],
      "metadata": {
        "id": "QVVezG9n6Ju-",
        "colab": {
          "base_uri": "https://localhost:8080/"
        },
        "outputId": "8818cb37-42f4-455c-b6fb-fde6b5c11aeb"
      },
      "execution_count": 52,
      "outputs": [
        {
          "output_type": "execute_result",
          "data": {
            "text/plain": [
              "array([76.091934], dtype=float32)"
            ]
          },
          "metadata": {},
          "execution_count": 52
        }
      ]
    },
    {
      "cell_type": "markdown",
      "source": [
        "\n",
        "### The RMSE value for LSTM model is 76.09"
      ],
      "metadata": {
        "id": "kg-8NPrZGZOT"
      }
    },
    {
      "cell_type": "code",
      "source": [],
      "metadata": {
        "id": "apB6HR-iXJFm"
      },
      "execution_count": 52,
      "outputs": []
    }
  ],
  "metadata": {
    "colab": {
      "provenance": []
    },
    "kernelspec": {
      "display_name": "Python 3",
      "language": "python",
      "name": "python3"
    },
    "language_info": {
      "codemirror_mode": {
        "name": "ipython",
        "version": 3
      },
      "file_extension": ".py",
      "mimetype": "text/x-python",
      "name": "python",
      "nbconvert_exporter": "python",
      "pygments_lexer": "ipython3",
      "version": "3.6.4"
    }
  },
  "nbformat": 4,
  "nbformat_minor": 0
}